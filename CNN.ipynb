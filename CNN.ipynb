{
  "nbformat": 4,
  "nbformat_minor": 0,
  "metadata": {
    "colab": {
      "provenance": [],
      "authorship_tag": "ABX9TyNQ2eH2Hv0Nsr01YqZPEY2o",
      "include_colab_link": true
    },
    "kernelspec": {
      "name": "python3",
      "display_name": "Python 3"
    },
    "language_info": {
      "name": "python"
    }
  },
  "cells": [
    {
      "cell_type": "markdown",
      "metadata": {
        "id": "view-in-github",
        "colab_type": "text"
      },
      "source": [
        "<a href=\"https://colab.research.google.com/github/Mohan0332/Capstone/blob/main/CNN.ipynb\" target=\"_parent\"><img src=\"https://colab.research.google.com/assets/colab-badge.svg\" alt=\"Open In Colab\"/></a>"
      ]
    },
    {
      "cell_type": "markdown",
      "source": [
        "#Implementation of the exisiting model"
      ],
      "metadata": {
        "id": "Csfs6V4_dxw4"
      }
    },
    {
      "cell_type": "code",
      "source": [
        "import numpy as np\n",
        "from PIL import Image\n",
        "import os"
      ],
      "metadata": {
        "id": "9yvJePjkd4L7"
      },
      "execution_count": null,
      "outputs": []
    },
    {
      "cell_type": "code",
      "source": [
        "# function to convert a image to grayscale \n",
        "def rgb_to_gray(rgb_img):\n",
        "    # Convert the image to a NumPy array\n",
        "    rgb_array = np.array(rgb_img)\n",
        "\n",
        "    # Create an empty grayscale image array with the same dimensions as the RGB image\n",
        "    gray_array = np.empty(rgb_array.shape[:2], dtype=np.uint8)\n",
        "\n",
        "    # Calculate the luminance value for each pixel in the RGB image and assign it to the grayscale image array\n",
        "    for i in range(rgb_array.shape[0]):\n",
        "        for j in range(rgb_array.shape[1]):\n",
        "            r, g, b = rgb_array[i,j]\n",
        "            luminance = int(0.2989 * r + 0.5870 * g + 0.1140 * b)\n",
        "            gray_array[i,j] = luminance\n",
        "    \n",
        "    gray_img = Image.fromarray(gray_array)\n",
        "    return gray_img"
      ],
      "metadata": {
        "id": "rmxkf-O8eoVN"
      },
      "execution_count": null,
      "outputs": []
    },
    {
      "cell_type": "code",
      "source": [
        "from google.colab import drive\n",
        "drive.mount('/content/drive')"
      ],
      "metadata": {
        "colab": {
          "base_uri": "https://localhost:8080/"
        },
        "id": "mfSwF6MRjgo0",
        "outputId": "d95cc237-9a43-418f-a815-0c7112718a14"
      },
      "execution_count": null,
      "outputs": [
        {
          "output_type": "stream",
          "name": "stdout",
          "text": [
            "Drive already mounted at /content/drive; to attempt to forcibly remount, call drive.mount(\"/content/drive\", force_remount=True).\n"
          ]
        }
      ]
    },
    {
      "cell_type": "code",
      "source": [
        "data = []\n",
        "labels = []\n",
        "classes = 2\n",
        "cur_path = '/content/drive/MyDrive/Capstone dataset/Images-out_RGB'\n",
        "\n",
        "#Retrieving the images and their labels \n",
        "for i in range(classes):\n",
        "    path = os.path.join(cur_path,'train',str(i))\n",
        "    images = os.listdir(path)\n",
        "    for a in images:\n",
        "        try:\n",
        "            image = Image.open(path + '/'+ a)\n",
        "            image = image.resize((100,100))\n",
        "            img = rgb_to_gray(image)\n",
        "            img = np.array(img)\n",
        "            img = img.reshape((100, 100, 1))\n",
        "            #image = np.array(image)\n",
        "            #sim = Image.fromarray(image)\n",
        "            data.append(img)\n",
        "            labels.append(i)\n",
        "        except:\n",
        "            print(\"Error loading image\")"
      ],
      "metadata": {
        "id": "z_KmdDNPjiYW"
      },
      "execution_count": null,
      "outputs": []
    },
    {
      "cell_type": "code",
      "source": [
        "data = np.array(data)\n",
        "labels = np.array(labels)"
      ],
      "metadata": {
        "id": "MtcZaJnVm2NC"
      },
      "execution_count": null,
      "outputs": []
    },
    {
      "cell_type": "code",
      "source": [
        "print(data.shape, labels.shape)"
      ],
      "metadata": {
        "colab": {
          "base_uri": "https://localhost:8080/"
        },
        "id": "-gNzUiqum8wM",
        "outputId": "b7b64dc3-e89f-4172-fd0d-ccfb895283df"
      },
      "execution_count": null,
      "outputs": [
        {
          "output_type": "stream",
          "name": "stdout",
          "text": [
            "(490, 100, 100, 1) (490,)\n"
          ]
        }
      ]
    },
    {
      "cell_type": "code",
      "source": [
        "import pandas as pd \n",
        "import matplotlib.pyplot as plt\n",
        "import cv2\n",
        "import tensorflow as tf\n",
        "from PIL import Image\n",
        "import os\n",
        "from sklearn.model_selection import train_test_split\n",
        "from keras.utils import to_categorical\n",
        "from keras.models import Sequential, load_model\n",
        "from keras.layers import Conv2D, MaxPool2D, Dense, Flatten, Dropout"
      ],
      "metadata": {
        "id": "3Q-Bbkw_m_nz"
      },
      "execution_count": null,
      "outputs": []
    },
    {
      "cell_type": "code",
      "source": [
        "#Splitting training and testing dataset\n",
        "X_train, X_test, y_train, y_test = train_test_split(data, labels, test_size=0.22, random_state=42)"
      ],
      "metadata": {
        "id": "12fV_xjTnK-C"
      },
      "execution_count": null,
      "outputs": []
    },
    {
      "cell_type": "code",
      "source": [
        "print(X_train.shape, X_test.shape, y_train.shape, y_test.shape)"
      ],
      "metadata": {
        "colab": {
          "base_uri": "https://localhost:8080/"
        },
        "id": "zoqcKGkrnOei",
        "outputId": "8002a938-1161-4380-a8e4-8df544455d92"
      },
      "execution_count": null,
      "outputs": [
        {
          "output_type": "stream",
          "name": "stdout",
          "text": [
            "(382, 100, 100, 1) (108, 100, 100, 1) (382,) (108,)\n"
          ]
        }
      ]
    },
    {
      "cell_type": "code",
      "source": [
        "#Converting the labels into one hot encoding\n",
        "y_train = to_categorical(y_train, 2)\n",
        "y_test = to_categorical(y_test, 2)"
      ],
      "metadata": {
        "id": "rPiOiBABnPsj"
      },
      "execution_count": null,
      "outputs": []
    },
    {
      "cell_type": "code",
      "source": [
        "#Building the model\n",
        "model = Sequential()\n",
        "model.add(Conv2D(filters=16, kernel_size=(3,3), activation='relu', input_shape=(100,100,1)))\n",
        "model.add(MaxPool2D(pool_size=(2, 2)))\n",
        "model.add(Conv2D(filters=32, kernel_size=(3,3), activation='relu'))\n",
        "model.add(MaxPool2D(pool_size=(2, 2)))\n",
        "model.add(Conv2D(filters=64, kernel_size=(3,3), activation='relu'))\n",
        "model.add(MaxPool2D(pool_size=(2, 2)))\n",
        "model.add(Conv2D(filters=128, kernel_size=(3,3), activation='relu'))\n",
        "model.add(MaxPool2D(pool_size=(2, 2)))\n",
        "model.add(Flatten())\n",
        "model.add(Dense(256, activation='relu'))\n",
        "model.add(Dense(128, activation='relu'))\n",
        "model.add(Dense(2, activation='sigmoid'))"
      ],
      "metadata": {
        "id": "lNvqsB5tnXvz"
      },
      "execution_count": null,
      "outputs": []
    },
    {
      "cell_type": "code",
      "source": [
        "#Compilation of the model\n",
        "model.compile(loss='binary_crossentropy', optimizer='adam', metrics=['accuracy'])"
      ],
      "metadata": {
        "id": "OTlyepoLoqvR"
      },
      "execution_count": null,
      "outputs": []
    },
    {
      "cell_type": "code",
      "source": [
        "model.summary()"
      ],
      "metadata": {
        "colab": {
          "base_uri": "https://localhost:8080/"
        },
        "id": "zv3ohxEwosnR",
        "outputId": "becfdfe5-fd52-43a6-e064-abea209b9079"
      },
      "execution_count": null,
      "outputs": [
        {
          "output_type": "stream",
          "name": "stdout",
          "text": [
            "Model: \"sequential_7\"\n",
            "_________________________________________________________________\n",
            " Layer (type)                Output Shape              Param #   \n",
            "=================================================================\n",
            " conv2d_28 (Conv2D)          (None, 98, 98, 16)        160       \n",
            "                                                                 \n",
            " max_pooling2d_28 (MaxPoolin  (None, 49, 49, 16)       0         \n",
            " g2D)                                                            \n",
            "                                                                 \n",
            " conv2d_29 (Conv2D)          (None, 47, 47, 32)        4640      \n",
            "                                                                 \n",
            " max_pooling2d_29 (MaxPoolin  (None, 23, 23, 32)       0         \n",
            " g2D)                                                            \n",
            "                                                                 \n",
            " conv2d_30 (Conv2D)          (None, 21, 21, 64)        18496     \n",
            "                                                                 \n",
            " max_pooling2d_30 (MaxPoolin  (None, 10, 10, 64)       0         \n",
            " g2D)                                                            \n",
            "                                                                 \n",
            " conv2d_31 (Conv2D)          (None, 8, 8, 128)         73856     \n",
            "                                                                 \n",
            " max_pooling2d_31 (MaxPoolin  (None, 4, 4, 128)        0         \n",
            " g2D)                                                            \n",
            "                                                                 \n",
            " flatten_7 (Flatten)         (None, 2048)              0         \n",
            "                                                                 \n",
            " dense_21 (Dense)            (None, 256)               524544    \n",
            "                                                                 \n",
            " dense_22 (Dense)            (None, 128)               32896     \n",
            "                                                                 \n",
            " dense_23 (Dense)            (None, 2)                 258       \n",
            "                                                                 \n",
            "=================================================================\n",
            "Total params: 654,850\n",
            "Trainable params: 654,850\n",
            "Non-trainable params: 0\n",
            "_________________________________________________________________\n"
          ]
        }
      ]
    },
    {
      "cell_type": "code",
      "source": [
        "epochs = 15\n",
        "history = model.fit(X_train, y_train, batch_size=64, epochs=epochs, validation_data=(X_test, y_test))"
      ],
      "metadata": {
        "id": "YfPsi15Pot68",
        "colab": {
          "base_uri": "https://localhost:8080/"
        },
        "outputId": "60bd90be-6e1b-44d2-c269-f623681b8e39"
      },
      "execution_count": null,
      "outputs": [
        {
          "output_type": "stream",
          "name": "stdout",
          "text": [
            "Epoch 1/15\n",
            "6/6 [==============================] - 8s 994ms/step - loss: 0.6130 - accuracy: 0.6885 - val_loss: 0.5641 - val_accuracy: 0.7222\n",
            "Epoch 2/15\n",
            "6/6 [==============================] - 3s 568ms/step - loss: 0.4944 - accuracy: 0.7775 - val_loss: 0.5772 - val_accuracy: 0.7037\n",
            "Epoch 3/15\n",
            "6/6 [==============================] - 3s 552ms/step - loss: 0.5099 - accuracy: 0.7723 - val_loss: 0.5208 - val_accuracy: 0.7222\n",
            "Epoch 4/15\n",
            "6/6 [==============================] - 3s 534ms/step - loss: 0.4475 - accuracy: 0.8037 - val_loss: 0.5917 - val_accuracy: 0.6667\n",
            "Epoch 5/15\n",
            "6/6 [==============================] - 5s 944ms/step - loss: 0.4324 - accuracy: 0.8141 - val_loss: 0.5245 - val_accuracy: 0.7315\n",
            "Epoch 6/15\n",
            "6/6 [==============================] - 3s 566ms/step - loss: 0.3792 - accuracy: 0.8508 - val_loss: 0.5750 - val_accuracy: 0.7037\n",
            "Epoch 7/15\n",
            "6/6 [==============================] - 3s 561ms/step - loss: 0.3229 - accuracy: 0.8743 - val_loss: 0.5259 - val_accuracy: 0.7222\n",
            "Epoch 8/15\n",
            "6/6 [==============================] - 4s 634ms/step - loss: 0.2668 - accuracy: 0.8848 - val_loss: 0.4996 - val_accuracy: 0.7315\n",
            "Epoch 9/15\n",
            "6/6 [==============================] - 5s 790ms/step - loss: 0.2112 - accuracy: 0.9267 - val_loss: 0.5207 - val_accuracy: 0.7407\n",
            "Epoch 10/15\n",
            "6/6 [==============================] - 3s 538ms/step - loss: 0.1436 - accuracy: 0.9581 - val_loss: 0.5294 - val_accuracy: 0.7500\n",
            "Epoch 11/15\n",
            "6/6 [==============================] - 3s 555ms/step - loss: 0.0820 - accuracy: 0.9869 - val_loss: 0.6004 - val_accuracy: 0.7500\n",
            "Epoch 12/15\n",
            "6/6 [==============================] - 4s 701ms/step - loss: 0.0459 - accuracy: 0.9843 - val_loss: 0.6736 - val_accuracy: 0.7222\n",
            "Epoch 13/15\n",
            "6/6 [==============================] - 5s 712ms/step - loss: 0.0201 - accuracy: 1.0000 - val_loss: 0.9201 - val_accuracy: 0.7037\n",
            "Epoch 14/15\n",
            "6/6 [==============================] - 3s 552ms/step - loss: 0.0078 - accuracy: 1.0000 - val_loss: 1.0618 - val_accuracy: 0.7130\n",
            "Epoch 15/15\n",
            "6/6 [==============================] - 3s 560ms/step - loss: 0.0024 - accuracy: 1.0000 - val_loss: 1.0985 - val_accuracy: 0.7222\n"
          ]
        }
      ]
    },
    {
      "cell_type": "code",
      "source": [
        "test_data = []\n",
        "test_labels = []\n",
        "classes = 2\n",
        "cur_path = '/content/drive/MyDrive/Capstone dataset/Images-out_RGB'\n",
        "\n",
        "#Retrieving the images and their labels \n",
        "for i in range(classes):\n",
        "    path = os.path.join(cur_path,'test',str(i))\n",
        "    images = os.listdir(path)\n",
        "    for a in images:\n",
        "        try:\n",
        "            image = Image.open(path + '/'+ a)\n",
        "            image = image.resize((100,100))\n",
        "            img = rgb_to_gray(image)\n",
        "            img = np.array(img)\n",
        "            img = img.reshape((100, 100, 1))\n",
        "            #sim = Image.fromarray(image)\n",
        "            test_data.append(img)\n",
        "            test_labels.append(i)\n",
        "        except:\n",
        "            print(\"Error loading image\")\n",
        "     \n"
      ],
      "metadata": {
        "id": "7eSq3Syxsh23"
      },
      "execution_count": null,
      "outputs": []
    },
    {
      "cell_type": "code",
      "source": [
        "x_test=np.array(test_data)"
      ],
      "metadata": {
        "id": "M5J7vIcLtGFf"
      },
      "execution_count": null,
      "outputs": []
    },
    {
      "cell_type": "code",
      "source": [
        "x_test.shape"
      ],
      "metadata": {
        "colab": {
          "base_uri": "https://localhost:8080/"
        },
        "id": "kp7aWjuQtHQA",
        "outputId": "5c27fdd0-cb80-43cf-c2bb-71a38a1629e2"
      },
      "execution_count": null,
      "outputs": [
        {
          "output_type": "execute_result",
          "data": {
            "text/plain": [
              "(57, 100, 100, 1)"
            ]
          },
          "metadata": {},
          "execution_count": 74
        }
      ]
    },
    {
      "cell_type": "code",
      "source": [
        "y_pred_prob = model.predict(x_test)\n",
        "y_pred = np.argmax(y_pred_prob, axis=1)"
      ],
      "metadata": {
        "colab": {
          "base_uri": "https://localhost:8080/"
        },
        "id": "ED6lUmzftOtg",
        "outputId": "a1553023-eb1b-4719-84d2-639a2a100636"
      },
      "execution_count": null,
      "outputs": [
        {
          "output_type": "stream",
          "name": "stderr",
          "text": [
            "WARNING:tensorflow:5 out of the last 11 calls to <function Model.make_predict_function.<locals>.predict_function at 0x7fccd5c9b4c0> triggered tf.function retracing. Tracing is expensive and the excessive number of tracings could be due to (1) creating @tf.function repeatedly in a loop, (2) passing tensors with different shapes, (3) passing Python objects instead of tensors. For (1), please define your @tf.function outside of the loop. For (2), @tf.function has reduce_retracing=True option that can avoid unnecessary retracing. For (3), please refer to https://www.tensorflow.org/guide/function#controlling_retracing and https://www.tensorflow.org/api_docs/python/tf/function for  more details.\n"
          ]
        },
        {
          "output_type": "stream",
          "name": "stdout",
          "text": [
            "2/2 [==============================] - 0s 58ms/step\n"
          ]
        }
      ]
    },
    {
      "cell_type": "code",
      "source": [
        "from sklearn.metrics import accuracy_score\n",
        "print(accuracy_score(test_labels,y_pred ))"
      ],
      "metadata": {
        "colab": {
          "base_uri": "https://localhost:8080/"
        },
        "id": "RFAW7GfKtRGD",
        "outputId": "fdcdca88-1694-4a18-c14d-9ac9b98eeeea"
      },
      "execution_count": null,
      "outputs": [
        {
          "output_type": "stream",
          "name": "stdout",
          "text": [
            "0.7192982456140351\n"
          ]
        }
      ]
    },
    {
      "cell_type": "code",
      "source": [],
      "metadata": {
        "id": "s2CPra-1zRW9"
      },
      "execution_count": null,
      "outputs": []
    }
  ]
}