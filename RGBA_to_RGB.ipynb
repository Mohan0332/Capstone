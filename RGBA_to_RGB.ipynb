{
  "nbformat": 4,
  "nbformat_minor": 0,
  "metadata": {
    "colab": {
      "provenance": [],
      "authorship_tag": "ABX9TyPFGGDrsGZkU712DlFiHlw1",
      "include_colab_link": true
    },
    "kernelspec": {
      "name": "python3",
      "display_name": "Python 3"
    },
    "language_info": {
      "name": "python"
    }
  },
  "cells": [
    {
      "cell_type": "markdown",
      "metadata": {
        "id": "view-in-github",
        "colab_type": "text"
      },
      "source": [
        "<a href=\"https://colab.research.google.com/github/Mohan0332/Capstone/blob/main/RGBA_to_RGB.ipynb\" target=\"_parent\"><img src=\"https://colab.research.google.com/assets/colab-badge.svg\" alt=\"Open In Colab\"/></a>"
      ]
    },
    {
      "cell_type": "code",
      "execution_count": 1,
      "metadata": {
        "id": "EtN8FXyeuPkC",
        "colab": {
          "base_uri": "https://localhost:8080/"
        },
        "outputId": "9a4ea76e-88a8-476f-8f83-8266aa2b321b"
      },
      "outputs": [
        {
          "output_type": "stream",
          "name": "stdout",
          "text": [
            "Mounted at /content/drive\n"
          ]
        }
      ],
      "source": [
        "from google.colab import drive\n",
        "drive.mount('/content/drive')"
      ]
    },
    {
      "cell_type": "code",
      "source": [
        "#train/0\n",
        "\n",
        "from PIL import Image\n",
        "import os\n",
        "\n",
        "# Set the path of the folder containing the images\n",
        "folder_path = '/content/drive/MyDrive/Capstone dataset/Images-out/train/0'\n",
        "\n",
        "# Get a list of all the files in the folder\n",
        "files = os.listdir(folder_path)\n",
        "\n",
        "# Loop through each file and convert it to RGB\n",
        "for file_name in files:\n",
        "    # Check if the file is an image\n",
        "    if file_name.endswith('.png') or file_name.endswith('.jpg'):\n",
        "        # Open the image and convert it to RGB\n",
        "        image_path = os.path.join(folder_path, file_name)\n",
        "        image = Image.open(image_path).convert('RGB')\n",
        "        # Save the converted image\n",
        "        save_path = os.path.join('/content/drive/MyDrive/Capstone dataset/Images-out/train/RGB_0',file_name)\n",
        "        image.save(save_path)"
      ],
      "metadata": {
        "id": "hhjxMQfMQI3Z"
      },
      "execution_count": 13,
      "outputs": []
    },
    {
      "cell_type": "code",
      "source": [
        "#train/1\n",
        "\n",
        "# Set the path of the folder containing the images\n",
        "folder_path = '/content/drive/MyDrive/Capstone dataset/Images-out/train/1'\n",
        "\n",
        "# Get a list of all the files in the folder\n",
        "files = os.listdir(folder_path)\n",
        "\n",
        "# Loop through each file and convert it to RGB\n",
        "for file_name in files:\n",
        "    # Check if the file is an image\n",
        "    if file_name.endswith('.png') or file_name.endswith('.jpg'):\n",
        "        # Open the image and convert it to RGB\n",
        "        image_path = os.path.join(folder_path, file_name)\n",
        "        image = Image.open(image_path).convert('RGB')\n",
        "        # Save the converted image\n",
        "        save_path = os.path.join('/content/drive/MyDrive/Capstone dataset/Images-out/train/RGB_1',file_name)\n",
        "        image.save(save_path)"
      ],
      "metadata": {
        "id": "6VucFy0iRZ94"
      },
      "execution_count": 14,
      "outputs": []
    },
    {
      "cell_type": "code",
      "source": [
        "#test/0\n",
        "\n",
        "from PIL import Image\n",
        "import os\n",
        "\n",
        "# Set the path of the folder containing the images\n",
        "folder_path = '/content/drive/MyDrive/Capstone dataset/Images-out/test/0'\n",
        "\n",
        "# Get a list of all the files in the folder\n",
        "files = os.listdir(folder_path)\n",
        "\n",
        "# Loop through each file and convert it to RGB\n",
        "for file_name in files:\n",
        "    # Check if the file is an image\n",
        "    if file_name.endswith('.png') or file_name.endswith('.jpg'):\n",
        "        # Open the image and convert it to RGB\n",
        "        image_path = os.path.join(folder_path, file_name)\n",
        "        image = Image.open(image_path).convert('RGB')\n",
        "        # Save the converted image\n",
        "        save_path = os.path.join('/content/drive/MyDrive/Capstone dataset/Images-out/test/RGB_0',file_name)\n",
        "        image.save(save_path)\n",
        "\n"
      ],
      "metadata": {
        "id": "iKKec8FVTw5G"
      },
      "execution_count": 15,
      "outputs": []
    },
    {
      "cell_type": "code",
      "source": [
        "#test/1\n",
        "\n",
        "from PIL import Image\n",
        "import os\n",
        "\n",
        "# Set the path of the folder containing the images\n",
        "folder_path = '/content/drive/MyDrive/Capstone dataset/Images-out/test/1'\n",
        "\n",
        "# Get a list of all the files in the folder\n",
        "files = os.listdir(folder_path)\n",
        "\n",
        "# Loop through each file and convert it to RGB\n",
        "for file_name in files:\n",
        "    # Check if the file is an image\n",
        "    if file_name.endswith('.png') or file_name.endswith('.jpg'):\n",
        "        # Open the image and convert it to RGB\n",
        "        image_path = os.path.join(folder_path, file_name)\n",
        "        image = Image.open(image_path).convert('RGB')\n",
        "        # Save the converted image\n",
        "        save_path = os.path.join('/content/drive/MyDrive/Capstone dataset/Images-out/test/RGB_1',file_name)\n",
        "        image.save(save_path)"
      ],
      "metadata": {
        "id": "ku5Q288OT-r3"
      },
      "execution_count": 16,
      "outputs": []
    }
  ]
}