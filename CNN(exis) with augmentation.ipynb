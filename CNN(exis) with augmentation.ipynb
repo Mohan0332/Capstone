{
  "nbformat": 4,
  "nbformat_minor": 0,
  "metadata": {
    "colab": {
      "provenance": [],
      "authorship_tag": "ABX9TyOu/9D9lYi3RwkRJ/Vy9IDG",
      "include_colab_link": true
    },
    "kernelspec": {
      "name": "python3",
      "display_name": "Python 3"
    },
    "language_info": {
      "name": "python"
    }
  },
  "cells": [
    {
      "cell_type": "markdown",
      "metadata": {
        "id": "view-in-github",
        "colab_type": "text"
      },
      "source": [
        "<a href=\"https://colab.research.google.com/github/Mohan0332/Capstone/blob/main/CNN(exis)%20with%20augmentation.ipynb\" target=\"_parent\"><img src=\"https://colab.research.google.com/assets/colab-badge.svg\" alt=\"Open In Colab\"/></a>"
      ]
    },
    {
      "cell_type": "markdown",
      "source": [
        "#Implementation of the exisiting model"
      ],
      "metadata": {
        "id": "Csfs6V4_dxw4"
      }
    },
    {
      "cell_type": "code",
      "source": [
        "import numpy as np\n",
        "from PIL import Image\n",
        "import os"
      ],
      "metadata": {
        "id": "9yvJePjkd4L7"
      },
      "execution_count": 1,
      "outputs": []
    },
    {
      "cell_type": "code",
      "source": [
        "# function to convert a image to grayscale \n",
        "def rgb_to_gray(rgb_img):\n",
        "    # Convert the image to a NumPy array\n",
        "    rgb_array = np.array(rgb_img)\n",
        "\n",
        "    # Create an empty grayscale image array with the same dimensions as the RGB image\n",
        "    gray_array = np.empty(rgb_array.shape[:2], dtype=np.uint8)\n",
        "\n",
        "    # Calculate the luminance value for each pixel in the RGB image and assign it to the grayscale image array\n",
        "    for i in range(rgb_array.shape[0]):\n",
        "        for j in range(rgb_array.shape[1]):\n",
        "            r, g, b = rgb_array[i,j]\n",
        "            luminance = int(0.2989 * r + 0.5870 * g + 0.1140 * b)\n",
        "            gray_array[i,j] = luminance\n",
        "    \n",
        "    gray_img = Image.fromarray(gray_array)\n",
        "    return gray_img"
      ],
      "metadata": {
        "id": "rmxkf-O8eoVN"
      },
      "execution_count": 2,
      "outputs": []
    },
    {
      "cell_type": "code",
      "source": [
        "from google.colab import drive\n",
        "drive.mount('/content/drive')"
      ],
      "metadata": {
        "colab": {
          "base_uri": "https://localhost:8080/"
        },
        "id": "mfSwF6MRjgo0",
        "outputId": "6299f3f5-4872-47a2-8bf5-558b02602988"
      },
      "execution_count": 3,
      "outputs": [
        {
          "output_type": "stream",
          "name": "stdout",
          "text": [
            "Mounted at /content/drive\n"
          ]
        }
      ]
    },
    {
      "cell_type": "code",
      "source": [
        "data = []\n",
        "labels = []\n",
        "classes = 2\n",
        "cur_path = '/content/drive/MyDrive/Capstone dataset/Images-out_RGB'\n",
        "\n",
        "#Retrieving the images and their labels \n",
        "for i in range(classes):\n",
        "    path = os.path.join(cur_path,'train',str(i))\n",
        "    images = os.listdir(path)\n",
        "    for a in images:\n",
        "        try:\n",
        "            image = Image.open(path + '/'+ a)\n",
        "            image = image.resize((100,100))\n",
        "            img = rgb_to_gray(image)\n",
        "            img = np.array(img)\n",
        "            img = img.reshape((100, 100, 1))\n",
        "            #image = np.array(image)\n",
        "            #sim = Image.fromarray(image)\n",
        "            data.append(img)\n",
        "            labels.append(i)\n",
        "        except:\n",
        "            print(\"Error loading image\")"
      ],
      "metadata": {
        "id": "z_KmdDNPjiYW"
      },
      "execution_count": 4,
      "outputs": []
    },
    {
      "cell_type": "code",
      "source": [
        "data = np.array(data)\n",
        "labels = np.array(labels)"
      ],
      "metadata": {
        "id": "MtcZaJnVm2NC"
      },
      "execution_count": 5,
      "outputs": []
    },
    {
      "cell_type": "code",
      "source": [
        "print(data.shape, labels.shape)"
      ],
      "metadata": {
        "colab": {
          "base_uri": "https://localhost:8080/"
        },
        "id": "-gNzUiqum8wM",
        "outputId": "13785eb4-a444-4359-eace-0398ec6ce391"
      },
      "execution_count": 6,
      "outputs": [
        {
          "output_type": "stream",
          "name": "stdout",
          "text": [
            "(490, 100, 100, 1) (490,)\n"
          ]
        }
      ]
    },
    {
      "cell_type": "code",
      "source": [
        "import pandas as pd \n",
        "import matplotlib.pyplot as plt\n",
        "import cv2\n",
        "import tensorflow as tf\n",
        "from PIL import Image\n",
        "import os\n",
        "from sklearn.model_selection import train_test_split\n",
        "from keras.utils import to_categorical\n",
        "from keras.models import Sequential, load_model\n",
        "from keras.layers import Conv2D, MaxPool2D, Dense, Flatten, Dropout"
      ],
      "metadata": {
        "id": "3Q-Bbkw_m_nz"
      },
      "execution_count": 46,
      "outputs": []
    },
    {
      "cell_type": "code",
      "source": [
        "#Splitting training and testing dataset\n",
        "X_train, X_test, y_train, y_test = train_test_split(data, labels, test_size=0.22, random_state=42)"
      ],
      "metadata": {
        "id": "12fV_xjTnK-C"
      },
      "execution_count": 47,
      "outputs": []
    },
    {
      "cell_type": "code",
      "source": [
        "print(X_train.shape, X_test.shape, y_train.shape, y_test.shape)"
      ],
      "metadata": {
        "colab": {
          "base_uri": "https://localhost:8080/"
        },
        "id": "zoqcKGkrnOei",
        "outputId": "939cf6c9-d49f-48b2-f022-933edc84c3ba"
      },
      "execution_count": 48,
      "outputs": [
        {
          "output_type": "stream",
          "name": "stdout",
          "text": [
            "(382, 100, 100, 1) (108, 100, 100, 1) (382,) (108,)\n"
          ]
        }
      ]
    },
    {
      "cell_type": "code",
      "source": [
        "#Converting the labels into one hot encoding\n",
        "y_train = to_categorical(y_train, 2)\n",
        "y_test = to_categorical(y_test, 2)"
      ],
      "metadata": {
        "id": "rPiOiBABnPsj"
      },
      "execution_count": 49,
      "outputs": []
    },
    {
      "cell_type": "code",
      "source": [
        "#Building the model\n",
        "model = Sequential()\n",
        "model.add(Conv2D(filters=16, kernel_size=(3,3), activation='relu', input_shape=(100,100,1)))\n",
        "model.add(MaxPool2D(pool_size=(2, 2)))\n",
        "model.add(Conv2D(filters=32, kernel_size=(3,3), activation='relu'))\n",
        "model.add(MaxPool2D(pool_size=(2, 2)))\n",
        "model.add(Conv2D(filters=64, kernel_size=(3,3), activation='relu'))\n",
        "model.add(MaxPool2D(pool_size=(2, 2)))\n",
        "model.add(Conv2D(filters=128, kernel_size=(3,3), activation='relu'))\n",
        "model.add(MaxPool2D(pool_size=(2, 2)))\n",
        "model.add(Flatten())\n",
        "model.add(Dense(256, activation='relu'))\n",
        "model.add(Dense(128, activation='relu'))\n",
        "model.add(Dense(2, activation='sigmoid'))"
      ],
      "metadata": {
        "id": "lNvqsB5tnXvz"
      },
      "execution_count": 59,
      "outputs": []
    },
    {
      "cell_type": "code",
      "source": [
        "#Compilation of the model\n",
        "model.compile(loss='binary_crossentropy', optimizer='adam', metrics=['accuracy'])"
      ],
      "metadata": {
        "id": "OTlyepoLoqvR"
      },
      "execution_count": 60,
      "outputs": []
    },
    {
      "cell_type": "code",
      "source": [
        "model.summary()"
      ],
      "metadata": {
        "colab": {
          "base_uri": "https://localhost:8080/"
        },
        "id": "zv3ohxEwosnR",
        "outputId": "d5073789-01ce-4d05-e9f3-07f0835e5aef"
      },
      "execution_count": 61,
      "outputs": [
        {
          "output_type": "stream",
          "name": "stdout",
          "text": [
            "Model: \"sequential_2\"\n",
            "_________________________________________________________________\n",
            " Layer (type)                Output Shape              Param #   \n",
            "=================================================================\n",
            " conv2d_8 (Conv2D)           (None, 98, 98, 16)        160       \n",
            "                                                                 \n",
            " max_pooling2d_8 (MaxPooling  (None, 49, 49, 16)       0         \n",
            " 2D)                                                             \n",
            "                                                                 \n",
            " conv2d_9 (Conv2D)           (None, 47, 47, 32)        4640      \n",
            "                                                                 \n",
            " max_pooling2d_9 (MaxPooling  (None, 23, 23, 32)       0         \n",
            " 2D)                                                             \n",
            "                                                                 \n",
            " conv2d_10 (Conv2D)          (None, 21, 21, 64)        18496     \n",
            "                                                                 \n",
            " max_pooling2d_10 (MaxPoolin  (None, 10, 10, 64)       0         \n",
            " g2D)                                                            \n",
            "                                                                 \n",
            " conv2d_11 (Conv2D)          (None, 8, 8, 128)         73856     \n",
            "                                                                 \n",
            " max_pooling2d_11 (MaxPoolin  (None, 4, 4, 128)        0         \n",
            " g2D)                                                            \n",
            "                                                                 \n",
            " flatten_2 (Flatten)         (None, 2048)              0         \n",
            "                                                                 \n",
            " dense_6 (Dense)             (None, 256)               524544    \n",
            "                                                                 \n",
            " dense_7 (Dense)             (None, 128)               32896     \n",
            "                                                                 \n",
            " dense_8 (Dense)             (None, 2)                 258       \n",
            "                                                                 \n",
            "=================================================================\n",
            "Total params: 654,850\n",
            "Trainable params: 654,850\n",
            "Non-trainable params: 0\n",
            "_________________________________________________________________\n"
          ]
        }
      ]
    },
    {
      "cell_type": "code",
      "source": [
        "from keras.preprocessing.image import ImageDataGenerator\n",
        "EPOCHS = 20\n",
        "BS = 32\n",
        "# construct the training image generator for data augmentation\n",
        "aug = ImageDataGenerator(rotation_range=45,\n",
        "\twidth_shift_range=0.2, height_shift_range=0.2,\n",
        "\thorizontal_flip=True)\n",
        "# train the network\n",
        "H = model.fit_generator(aug.flow(X_train, y_train, batch_size=BS),\n",
        "\tvalidation_data=(X_test,y_test), steps_per_epoch=len(X_train) // BS,\n",
        "\tepochs=EPOCHS)"
      ],
      "metadata": {
        "colab": {
          "base_uri": "https://localhost:8080/"
        },
        "id": "xB1f3F6sOaKs",
        "outputId": "edc549c3-e958-4014-dad4-8ccc4ee631b1"
      },
      "execution_count": 80,
      "outputs": [
        {
          "output_type": "stream",
          "name": "stdout",
          "text": [
            "Epoch 1/20\n"
          ]
        },
        {
          "output_type": "stream",
          "name": "stderr",
          "text": [
            "<ipython-input-80-91e032fe9352>:9: UserWarning: `Model.fit_generator` is deprecated and will be removed in a future version. Please use `Model.fit`, which supports generators.\n",
            "  H = model.fit_generator(aug.flow(X_train, y_train, batch_size=BS),\n"
          ]
        },
        {
          "output_type": "stream",
          "name": "stdout",
          "text": [
            "11/11 [==============================] - 6s 571ms/step - loss: 0.4617 - accuracy: 0.8000 - val_loss: 0.5429 - val_accuracy: 0.7593\n",
            "Epoch 2/20\n",
            "11/11 [==============================] - 3s 292ms/step - loss: 0.4456 - accuracy: 0.8086 - val_loss: 0.5427 - val_accuracy: 0.7222\n",
            "Epoch 3/20\n",
            "11/11 [==============================] - 5s 483ms/step - loss: 0.4858 - accuracy: 0.7686 - val_loss: 0.5183 - val_accuracy: 0.7037\n",
            "Epoch 4/20\n",
            "11/11 [==============================] - 3s 283ms/step - loss: 0.4577 - accuracy: 0.7841 - val_loss: 0.5190 - val_accuracy: 0.7593\n",
            "Epoch 5/20\n",
            "11/11 [==============================] - 5s 462ms/step - loss: 0.4333 - accuracy: 0.8143 - val_loss: 0.5308 - val_accuracy: 0.7315\n",
            "Epoch 6/20\n",
            "11/11 [==============================] - 3s 281ms/step - loss: 0.4453 - accuracy: 0.8000 - val_loss: 0.6014 - val_accuracy: 0.7315\n",
            "Epoch 7/20\n",
            "11/11 [==============================] - 3s 286ms/step - loss: 0.4560 - accuracy: 0.7971 - val_loss: 0.6274 - val_accuracy: 0.7593\n",
            "Epoch 8/20\n",
            "11/11 [==============================] - 4s 361ms/step - loss: 0.4614 - accuracy: 0.7857 - val_loss: 0.5818 - val_accuracy: 0.7222\n",
            "Epoch 9/20\n",
            "11/11 [==============================] - 3s 290ms/step - loss: 0.4571 - accuracy: 0.7857 - val_loss: 0.5957 - val_accuracy: 0.7778\n",
            "Epoch 10/20\n",
            "11/11 [==============================] - 3s 293ms/step - loss: 0.4489 - accuracy: 0.7857 - val_loss: 0.5398 - val_accuracy: 0.7130\n",
            "Epoch 11/20\n",
            "11/11 [==============================] - 4s 408ms/step - loss: 0.4292 - accuracy: 0.8114 - val_loss: 0.5793 - val_accuracy: 0.7593\n",
            "Epoch 12/20\n",
            "11/11 [==============================] - 3s 285ms/step - loss: 0.4538 - accuracy: 0.7971 - val_loss: 0.5695 - val_accuracy: 0.7500\n",
            "Epoch 13/20\n",
            "11/11 [==============================] - 3s 282ms/step - loss: 0.4224 - accuracy: 0.8057 - val_loss: 0.5651 - val_accuracy: 0.7315\n",
            "Epoch 14/20\n",
            "11/11 [==============================] - 5s 483ms/step - loss: 0.4449 - accuracy: 0.8029 - val_loss: 0.8395 - val_accuracy: 0.7407\n",
            "Epoch 15/20\n",
            "11/11 [==============================] - 6s 530ms/step - loss: 0.4717 - accuracy: 0.7743 - val_loss: 0.5180 - val_accuracy: 0.7222\n",
            "Epoch 16/20\n",
            "11/11 [==============================] - 5s 429ms/step - loss: 0.4607 - accuracy: 0.7743 - val_loss: 0.5243 - val_accuracy: 0.7593\n",
            "Epoch 17/20\n",
            "11/11 [==============================] - 3s 283ms/step - loss: 0.4453 - accuracy: 0.7971 - val_loss: 0.5379 - val_accuracy: 0.7222\n",
            "Epoch 18/20\n",
            "11/11 [==============================] - 3s 284ms/step - loss: 0.4603 - accuracy: 0.8057 - val_loss: 0.5739 - val_accuracy: 0.7593\n",
            "Epoch 19/20\n",
            "11/11 [==============================] - 5s 491ms/step - loss: 0.4609 - accuracy: 0.7829 - val_loss: 0.6248 - val_accuracy: 0.6759\n",
            "Epoch 20/20\n",
            "11/11 [==============================] - 3s 284ms/step - loss: 0.4626 - accuracy: 0.7829 - val_loss: 0.5967 - val_accuracy: 0.7593\n"
          ]
        }
      ]
    },
    {
      "cell_type": "code",
      "source": [
        "test_data = []\n",
        "test_labels = []\n",
        "classes = 2\n",
        "cur_path = '/content/drive/MyDrive/Capstone dataset/Images-out_RGB'\n",
        "\n",
        "#Retrieving the images and their labels \n",
        "for i in range(classes):\n",
        "    path = os.path.join(cur_path,'test',str(i))\n",
        "    images = os.listdir(path)\n",
        "    for a in images:\n",
        "        try:\n",
        "            image = Image.open(path + '/'+ a)\n",
        "            image = image.resize((100,100))\n",
        "            img = rgb_to_gray(image)\n",
        "            img = np.array(img)\n",
        "            img = img.reshape((100, 100, 1))\n",
        "            #sim = Image.fromarray(image)\n",
        "            test_data.append(img)\n",
        "            test_labels.append(i)\n",
        "        except:\n",
        "            print(\"Error loading image\")\n",
        "     \n"
      ],
      "metadata": {
        "id": "7eSq3Syxsh23"
      },
      "execution_count": 81,
      "outputs": []
    },
    {
      "cell_type": "code",
      "source": [
        "x_test=np.array(test_data)"
      ],
      "metadata": {
        "id": "M5J7vIcLtGFf"
      },
      "execution_count": 82,
      "outputs": []
    },
    {
      "cell_type": "code",
      "source": [
        "x_test.shape"
      ],
      "metadata": {
        "colab": {
          "base_uri": "https://localhost:8080/"
        },
        "id": "kp7aWjuQtHQA",
        "outputId": "6bd3b54b-fddf-44d9-8ba9-a0597e3d4633"
      },
      "execution_count": 83,
      "outputs": [
        {
          "output_type": "execute_result",
          "data": {
            "text/plain": [
              "(57, 100, 100, 1)"
            ]
          },
          "metadata": {},
          "execution_count": 83
        }
      ]
    },
    {
      "cell_type": "code",
      "source": [
        "y_pred_prob = model.predict(x_test)\n",
        "y_pred = np.argmax(y_pred_prob, axis=1)"
      ],
      "metadata": {
        "colab": {
          "base_uri": "https://localhost:8080/"
        },
        "id": "ED6lUmzftOtg",
        "outputId": "3ae7c08c-51c4-4674-b5a6-498718fa1e67"
      },
      "execution_count": 84,
      "outputs": [
        {
          "output_type": "stream",
          "name": "stdout",
          "text": [
            "2/2 [==============================] - 0s 55ms/step\n"
          ]
        }
      ]
    },
    {
      "cell_type": "code",
      "source": [
        "from sklearn.metrics import accuracy_score\n",
        "print(accuracy_score(test_labels,y_pred ))"
      ],
      "metadata": {
        "colab": {
          "base_uri": "https://localhost:8080/"
        },
        "id": "RFAW7GfKtRGD",
        "outputId": "d5f6904e-110d-42ac-976e-73fcf4b91f8d"
      },
      "execution_count": 85,
      "outputs": [
        {
          "output_type": "stream",
          "name": "stdout",
          "text": [
            "0.7368421052631579\n"
          ]
        }
      ]
    },
    {
      "cell_type": "code",
      "source": [],
      "metadata": {
        "id": "s2CPra-1zRW9"
      },
      "execution_count": null,
      "outputs": []
    }
  ]
}