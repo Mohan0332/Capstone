{
  "cells": [
    {
      "cell_type": "markdown",
      "metadata": {
        "id": "view-in-github",
        "colab_type": "text"
      },
      "source": [
        "<a href=\"https://colab.research.google.com/github/Mohan0332/Capstone/blob/main/basicCNN.ipynb\" target=\"_parent\"><img src=\"https://colab.research.google.com/assets/colab-badge.svg\" alt=\"Open In Colab\"/></a>"
      ]
    },
    {
      "cell_type": "code",
      "source": [
        "import numpy as np\n",
        "from PIL import Image\n",
        "import os"
      ],
      "metadata": {
        "id": "NBNevq8N-6HJ"
      },
      "execution_count": null,
      "outputs": []
    },
    {
      "cell_type": "code",
      "source": [
        "# function to convert a image to grayscale \n",
        "def rgb_to_gray(rgb_img):\n",
        "    # Convert the image to a NumPy array\n",
        "    rgb_array = np.array(rgb_img)\n",
        "\n",
        "    # Create an empty grayscale image array with the same dimensions as the RGB image\n",
        "    gray_array = np.empty(rgb_array.shape[:2], dtype=np.uint8)\n",
        "\n",
        "    # Calculate the luminance value for each pixel in the RGB image and assign it to the grayscale image array\n",
        "    for i in range(rgb_array.shape[0]):\n",
        "        for j in range(rgb_array.shape[1]):\n",
        "            r, g, b,al = rgb_array[i,j]\n",
        "            luminance = int(0.2989 * r + 0.5870 * g + 0.1140 * b)\n",
        "            gray_array[i,j] = luminance\n",
        "    \n",
        "    gray_img = Image.fromarray(gray_array)\n",
        "    return gray_img"
      ],
      "metadata": {
        "id": "sRf7Npp03lv-"
      },
      "execution_count": 11,
      "outputs": []
    },
    {
      "cell_type": "code",
      "source": [
        "from google.colab import drive\n",
        "drive.mount('/content/drive')"
      ],
      "metadata": {
        "colab": {
          "base_uri": "https://localhost:8080/"
        },
        "id": "PuewJ5Sz47TL",
        "outputId": "7ee3e125-13dc-4350-c927-ade2f83ab01e"
      },
      "execution_count": null,
      "outputs": [
        {
          "output_type": "stream",
          "name": "stdout",
          "text": [
            "Mounted at /content/drive\n"
          ]
        }
      ]
    },
    {
      "cell_type": "code",
      "source": [
        "data = []\n",
        "labels = []\n",
        "classes = 2\n",
        "cur_path = '/content/drive/MyDrive/Capstone dataset/Images-out'\n",
        "\n",
        "#Retrieving the images and their labels \n",
        "for i in range(classes):\n",
        "    path = os.path.join(cur_path,'train',str(i))\n",
        "    images = os.listdir(path)\n",
        "    for a in images:\n",
        "        try:\n",
        "            image = Image.open(path + '/'+ a)\n",
        "            image = image.resize((100,100))\n",
        "            #img = rgb_to_gray(image)\n",
        "            image = np.array(image)\n",
        "            #sim = Image.fromarray(image)\n",
        "            data.append(image)\n",
        "            labels.append(i)\n",
        "        except:\n",
        "            print(\"Error loading image\")"
      ],
      "metadata": {
        "id": "Nox_HuYoCQaB"
      },
      "execution_count": 42,
      "outputs": []
    },
    {
      "cell_type": "code",
      "source": [
        "data = np.array(data)\n",
        "labels = np.array(labels)"
      ],
      "metadata": {
        "id": "rYlpng0vHlYG"
      },
      "execution_count": 43,
      "outputs": []
    },
    {
      "cell_type": "code",
      "source": [
        "print(data.shape, labels.shape)"
      ],
      "metadata": {
        "colab": {
          "base_uri": "https://localhost:8080/"
        },
        "id": "cO4DZkGFHo2t",
        "outputId": "0922a91d-019d-4c71-a965-ff7c39677df8"
      },
      "execution_count": 44,
      "outputs": [
        {
          "output_type": "stream",
          "name": "stdout",
          "text": [
            "(490, 100, 100, 4) (490,)\n"
          ]
        }
      ]
    },
    {
      "cell_type": "code",
      "source": [
        "import pandas as pd \n",
        "import matplotlib.pyplot as plt\n",
        "import cv2\n",
        "import tensorflow as tf\n",
        "from PIL import Image\n",
        "import os\n",
        "from sklearn.model_selection import train_test_split\n",
        "from keras.utils import to_categorical\n",
        "from keras.models import Sequential, load_model\n",
        "from keras.layers import Conv2D, MaxPool2D, Dense, Flatten, Dropout"
      ],
      "metadata": {
        "id": "YfYpX6SoHwpV"
      },
      "execution_count": 45,
      "outputs": []
    },
    {
      "cell_type": "code",
      "source": [
        "#Splitting training and testing dataset\n",
        "X_train, X_test, y_train, y_test = train_test_split(data, labels, test_size=0.2, random_state=42)"
      ],
      "metadata": {
        "id": "-kFRLxVrHub9"
      },
      "execution_count": 46,
      "outputs": []
    },
    {
      "cell_type": "code",
      "source": [
        "print(X_train.shape, X_test.shape, y_train.shape, y_test.shape)"
      ],
      "metadata": {
        "colab": {
          "base_uri": "https://localhost:8080/"
        },
        "id": "4t7Emy77KRhG",
        "outputId": "6860ab8b-d546-4445-9588-797e649099bc"
      },
      "execution_count": 47,
      "outputs": [
        {
          "output_type": "stream",
          "name": "stdout",
          "text": [
            "(392, 100, 100, 4) (98, 100, 100, 4) (392,) (98,)\n"
          ]
        }
      ]
    },
    {
      "cell_type": "code",
      "source": [
        "'''X_train = np.expand_dims(X_train, axis=0)\n",
        "X_test = np.expand_dims(X_test, axis=0)'''"
      ],
      "metadata": {
        "id": "eOHAYKGGTCSe"
      },
      "execution_count": 29,
      "outputs": []
    },
    {
      "cell_type": "code",
      "source": [
        "#Converting the labels into one hot encoding\n",
        "y_train = to_categorical(y_train, 2)\n",
        "y_test = to_categorical(y_test, 2)"
      ],
      "metadata": {
        "id": "P4knBWNgKUzJ"
      },
      "execution_count": 48,
      "outputs": []
    },
    {
      "cell_type": "code",
      "source": [
        "#Building the model\n",
        "model = Sequential()\n",
        "model.add(Conv2D(filters=32, kernel_size=(5,5), activation='relu', input_shape=X_train.shape[1:]))\n",
        "model.add(Conv2D(filters=32, kernel_size=(5,5), activation='relu'))\n",
        "model.add(MaxPool2D(pool_size=(2, 2)))\n",
        "model.add(Dropout(rate=0.25))\n",
        "model.add(Conv2D(filters=64, kernel_size=(3, 3), activation='relu'))\n",
        "model.add(Conv2D(filters=64, kernel_size=(3, 3), activation='relu'))\n",
        "model.add(MaxPool2D(pool_size=(2, 2)))\n",
        "model.add(Dropout(rate=0.25))\n",
        "model.add(Flatten())\n",
        "model.add(Dense(256, activation='relu'))\n",
        "model.add(Dropout(rate=0.5))\n",
        "model.add(Dense(2, activation='softmax'))\n"
      ],
      "metadata": {
        "id": "IlZvi8SsKbkM"
      },
      "execution_count": 49,
      "outputs": []
    },
    {
      "cell_type": "code",
      "source": [
        "#Compilation of the model\n",
        "model.compile(loss='binary_crossentropy', optimizer='adam', metrics=['accuracy'])"
      ],
      "metadata": {
        "id": "3Xv9ksLeKcev"
      },
      "execution_count": 51,
      "outputs": []
    },
    {
      "cell_type": "code",
      "source": [
        "epochs = 25\n",
        "history = model.fit(X_train, y_train, batch_size=16, epochs=epochs, validation_data=(X_test, y_test))"
      ],
      "metadata": {
        "colab": {
          "base_uri": "https://localhost:8080/"
        },
        "id": "BXsiLYfwKkXO",
        "outputId": "fc778b9b-d70b-459b-d604-bc98286b7d1a"
      },
      "execution_count": 52,
      "outputs": [
        {
          "output_type": "stream",
          "name": "stdout",
          "text": [
            "Epoch 1/25\n",
            "25/25 [==============================] - 39s 1s/step - loss: 5.7460 - accuracy: 0.6250 - val_loss: 0.6983 - val_accuracy: 0.5306\n",
            "Epoch 2/25\n",
            "25/25 [==============================] - 38s 1s/step - loss: 0.6823 - accuracy: 0.6173 - val_loss: 0.6928 - val_accuracy: 0.5306\n",
            "Epoch 3/25\n",
            "25/25 [==============================] - 39s 2s/step - loss: 0.6682 - accuracy: 0.6173 - val_loss: 0.7076 - val_accuracy: 0.5306\n",
            "Epoch 4/25\n",
            "25/25 [==============================] - 38s 2s/step - loss: 0.6694 - accuracy: 0.6173 - val_loss: 0.7137 - val_accuracy: 0.5306\n",
            "Epoch 5/25\n",
            "25/25 [==============================] - 38s 2s/step - loss: 0.6717 - accuracy: 0.6173 - val_loss: 0.7026 - val_accuracy: 0.5306\n",
            "Epoch 6/25\n",
            "25/25 [==============================] - 37s 1s/step - loss: 0.6720 - accuracy: 0.6173 - val_loss: 0.7025 - val_accuracy: 0.5306\n",
            "Epoch 7/25\n",
            "25/25 [==============================] - 40s 2s/step - loss: 0.6687 - accuracy: 0.6173 - val_loss: 0.7109 - val_accuracy: 0.5306\n",
            "Epoch 8/25\n",
            "25/25 [==============================] - 37s 1s/step - loss: 0.6753 - accuracy: 0.6173 - val_loss: 0.6973 - val_accuracy: 0.5306\n",
            "Epoch 9/25\n",
            "25/25 [==============================] - 38s 2s/step - loss: 0.6704 - accuracy: 0.6173 - val_loss: 0.7039 - val_accuracy: 0.5306\n",
            "Epoch 10/25\n",
            "25/25 [==============================] - 38s 2s/step - loss: 0.6708 - accuracy: 0.6173 - val_loss: 0.6998 - val_accuracy: 0.5306\n",
            "Epoch 11/25\n",
            "25/25 [==============================] - 38s 2s/step - loss: 0.6625 - accuracy: 0.6173 - val_loss: 0.7133 - val_accuracy: 0.5306\n",
            "Epoch 12/25\n",
            "25/25 [==============================] - 36s 1s/step - loss: 0.6682 - accuracy: 0.6173 - val_loss: 0.7007 - val_accuracy: 0.5306\n",
            "Epoch 13/25\n",
            "25/25 [==============================] - 38s 1s/step - loss: 0.6708 - accuracy: 0.6173 - val_loss: 0.6990 - val_accuracy: 0.5306\n",
            "Epoch 14/25\n",
            "25/25 [==============================] - 36s 1s/step - loss: 0.6654 - accuracy: 0.6173 - val_loss: 0.7077 - val_accuracy: 0.5306\n",
            "Epoch 15/25\n",
            "25/25 [==============================] - 38s 1s/step - loss: 0.6682 - accuracy: 0.6173 - val_loss: 0.6990 - val_accuracy: 0.5306\n",
            "Epoch 16/25\n",
            "25/25 [==============================] - 42s 2s/step - loss: 0.6745 - accuracy: 0.6173 - val_loss: 0.6966 - val_accuracy: 0.5306\n",
            "Epoch 17/25\n",
            "25/25 [==============================] - 37s 1s/step - loss: 0.6639 - accuracy: 0.6173 - val_loss: 0.7139 - val_accuracy: 0.5306\n",
            "Epoch 18/25\n",
            "25/25 [==============================] - 38s 2s/step - loss: 0.6696 - accuracy: 0.6173 - val_loss: 0.7055 - val_accuracy: 0.5306\n",
            "Epoch 19/25\n",
            "25/25 [==============================] - 37s 1s/step - loss: 0.6668 - accuracy: 0.6173 - val_loss: 0.7035 - val_accuracy: 0.5306\n",
            "Epoch 20/25\n",
            "25/25 [==============================] - 38s 2s/step - loss: 0.6691 - accuracy: 0.6173 - val_loss: 0.7011 - val_accuracy: 0.5306\n",
            "Epoch 21/25\n",
            "25/25 [==============================] - 37s 1s/step - loss: 0.6648 - accuracy: 0.6173 - val_loss: 0.7132 - val_accuracy: 0.5306\n",
            "Epoch 22/25\n",
            "25/25 [==============================] - 43s 2s/step - loss: 0.6740 - accuracy: 0.6173 - val_loss: 0.7033 - val_accuracy: 0.5306\n",
            "Epoch 23/25\n",
            "25/25 [==============================] - 39s 2s/step - loss: 0.6693 - accuracy: 0.6173 - val_loss: 0.7113 - val_accuracy: 0.5306\n",
            "Epoch 24/25\n",
            "25/25 [==============================] - 36s 1s/step - loss: 0.6685 - accuracy: 0.6173 - val_loss: 0.7023 - val_accuracy: 0.5306\n",
            "Epoch 25/25\n",
            "25/25 [==============================] - 40s 2s/step - loss: 0.6656 - accuracy: 0.6173 - val_loss: 0.7061 - val_accuracy: 0.5306\n"
          ]
        }
      ]
    },
    {
      "cell_type": "code",
      "source": [
        "data = []\n",
        "labels = []\n",
        "classes = 2\n",
        "cur_path = '/content/drive/MyDrive/Capstone dataset/Images-out'\n",
        "\n",
        "#Retrieving the images and their labels \n",
        "for i in range(classes):\n",
        "    path = os.path.join(cur_path,'test',str(i))\n",
        "    images = os.listdir(path)\n",
        "    for a in images:\n",
        "        try:\n",
        "            image = Image.open(path + '/'+ a)\n",
        "            image = image.resize((100,100))\n",
        "            #img = rgb_to_gray(image)\n",
        "            image = np.array(image)\n",
        "            #sim = Image.fromarray(image)\n",
        "            data.append(image)\n",
        "            labels.append(i)\n",
        "        except:\n",
        "            print(\"Error loading image\")"
      ],
      "metadata": {
        "id": "J-S7PQpFcdLo"
      },
      "execution_count": 54,
      "outputs": []
    },
    {
      "cell_type": "code",
      "source": [
        "X_test=np.array(data)"
      ],
      "metadata": {
        "id": "CiCjVDGYeWWv"
      },
      "execution_count": 55,
      "outputs": []
    },
    {
      "cell_type": "code",
      "source": [
        "y_pred_prob = model.predict(X_test)\n",
        "y_pred = np.argmax(y_pred_prob, axis=1)"
      ],
      "metadata": {
        "colab": {
          "base_uri": "https://localhost:8080/"
        },
        "id": "8cjrgUzbegMA",
        "outputId": "1720609f-062d-42b5-cf5c-1177e573719a"
      },
      "execution_count": 57,
      "outputs": [
        {
          "output_type": "stream",
          "name": "stdout",
          "text": [
            "2/2 [==============================] - 1s 417ms/step\n"
          ]
        }
      ]
    },
    {
      "cell_type": "code",
      "source": [
        "from sklearn.metrics import accuracy_score\n",
        "print(accuracy_score(labels, y_pred))"
      ],
      "metadata": {
        "colab": {
          "base_uri": "https://localhost:8080/"
        },
        "id": "kOUpnBa1e8WP",
        "outputId": "d9ef3489-705b-46d5-a774-84cdfa913dae"
      },
      "execution_count": 60,
      "outputs": [
        {
          "output_type": "stream",
          "name": "stdout",
          "text": [
            "0.5964912280701754\n"
          ]
        }
      ]
    }
  ],
  "metadata": {
    "colab": {
      "provenance": [],
      "authorship_tag": "ABX9TyNWZ6ArByHRGJnyZaMdhiV9",
      "include_colab_link": true
    },
    "kernelspec": {
      "display_name": "Python 3",
      "name": "python3"
    },
    "language_info": {
      "name": "python"
    }
  },
  "nbformat": 4,
  "nbformat_minor": 0
}