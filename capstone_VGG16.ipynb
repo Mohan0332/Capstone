{
  "nbformat": 4,
  "nbformat_minor": 0,
  "metadata": {
    "colab": {
      "provenance": [],
      "authorship_tag": "ABX9TyNdEf7BjONfoNI2HmOSEgnD",
      "include_colab_link": true
    },
    "kernelspec": {
      "name": "python3",
      "display_name": "Python 3"
    },
    "language_info": {
      "name": "python"
    }
  },
  "cells": [
    {
      "cell_type": "markdown",
      "metadata": {
        "id": "view-in-github",
        "colab_type": "text"
      },
      "source": [
        "<a href=\"https://colab.research.google.com/github/Mohan0332/Capstone/blob/main/capstone_VGG16.ipynb\" target=\"_parent\"><img src=\"https://colab.research.google.com/assets/colab-badge.svg\" alt=\"Open In Colab\"/></a>"
      ]
    },
    {
      "cell_type": "code",
      "source": [
        "from google.colab import drive\n",
        "drive.mount('/content/drive')"
      ],
      "metadata": {
        "colab": {
          "base_uri": "https://localhost:8080/"
        },
        "id": "NMi1SuLYX3Zn",
        "outputId": "da40ebdd-b852-435a-b845-fa4500e0925b"
      },
      "execution_count": 11,
      "outputs": [
        {
          "output_type": "stream",
          "name": "stdout",
          "text": [
            "Mounted at /content/drive\n"
          ]
        }
      ]
    },
    {
      "cell_type": "code",
      "execution_count": 1,
      "metadata": {
        "id": "bO754k1pUnCU"
      },
      "outputs": [],
      "source": [
        "from keras.layers import Input, Lambda, Dense, Flatten\n",
        "from keras.models import Model\n",
        "from keras.applications.vgg16 import VGG16\n",
        "from keras.applications.vgg16 import preprocess_input\n",
        "from keras.preprocessing import image\n",
        "from keras.preprocessing.image import ImageDataGenerator\n",
        "from keras.models import Sequential\n",
        "import numpy as np\n",
        "from glob import glob\n",
        "import matplotlib.pyplot as plt\n",
        "\n",
        "# re-size all the images to this\n",
        "IMAGE_SIZE = [224, 224]\n",
        "\n",
        "train_path = '/content/drive/MyDrive/Capstone dataset/Images-out/train'\n",
        "valid_path = '/content/drive/MyDrive/Capstone dataset/Images-out/test'"
      ]
    },
    {
      "cell_type": "code",
      "source": [
        "# add preprocessing layer to the front of VGG\n",
        "vgg = VGG16(input_shape=IMAGE_SIZE + [3], weights='imagenet', include_top=False)\n",
        "\n",
        "# don't train existing weights\n",
        "for layer in vgg.layers:\n",
        "  layer.trainable = False\n",
        "  \n",
        "\n",
        "  \n"
      ],
      "metadata": {
        "id": "yR9gr5yRU14_"
      },
      "execution_count": 3,
      "outputs": []
    },
    {
      "cell_type": "code",
      "source": [
        "# our layers - you can add more if you want\n",
        "x = Flatten()(vgg.output)\n",
        "# x = Dense(1000, activation='relu')(x)\n",
        "prediction = Dense(2, activation='softmax')(x)"
      ],
      "metadata": {
        "id": "4gZArvq8U_Hh"
      },
      "execution_count": 18,
      "outputs": []
    },
    {
      "cell_type": "code",
      "source": [
        "# create a model object\n",
        "model = Model(inputs=vgg.input, outputs=prediction)\n",
        "\n",
        "# view the structure of the model\n",
        "model.summary()"
      ],
      "metadata": {
        "colab": {
          "base_uri": "https://localhost:8080/"
        },
        "id": "uD_f3u8sVZuA",
        "outputId": "de3bcb67-4d1e-4711-8ec4-b3f79c589675"
      },
      "execution_count": 19,
      "outputs": [
        {
          "output_type": "stream",
          "name": "stdout",
          "text": [
            "Model: \"model_1\"\n",
            "_________________________________________________________________\n",
            " Layer (type)                Output Shape              Param #   \n",
            "=================================================================\n",
            " input_2 (InputLayer)        [(None, 224, 224, 3)]     0         \n",
            "                                                                 \n",
            " block1_conv1 (Conv2D)       (None, 224, 224, 64)      1792      \n",
            "                                                                 \n",
            " block1_conv2 (Conv2D)       (None, 224, 224, 64)      36928     \n",
            "                                                                 \n",
            " block1_pool (MaxPooling2D)  (None, 112, 112, 64)      0         \n",
            "                                                                 \n",
            " block2_conv1 (Conv2D)       (None, 112, 112, 128)     73856     \n",
            "                                                                 \n",
            " block2_conv2 (Conv2D)       (None, 112, 112, 128)     147584    \n",
            "                                                                 \n",
            " block2_pool (MaxPooling2D)  (None, 56, 56, 128)       0         \n",
            "                                                                 \n",
            " block3_conv1 (Conv2D)       (None, 56, 56, 256)       295168    \n",
            "                                                                 \n",
            " block3_conv2 (Conv2D)       (None, 56, 56, 256)       590080    \n",
            "                                                                 \n",
            " block3_conv3 (Conv2D)       (None, 56, 56, 256)       590080    \n",
            "                                                                 \n",
            " block3_pool (MaxPooling2D)  (None, 28, 28, 256)       0         \n",
            "                                                                 \n",
            " block4_conv1 (Conv2D)       (None, 28, 28, 512)       1180160   \n",
            "                                                                 \n",
            " block4_conv2 (Conv2D)       (None, 28, 28, 512)       2359808   \n",
            "                                                                 \n",
            " block4_conv3 (Conv2D)       (None, 28, 28, 512)       2359808   \n",
            "                                                                 \n",
            " block4_pool (MaxPooling2D)  (None, 14, 14, 512)       0         \n",
            "                                                                 \n",
            " block5_conv1 (Conv2D)       (None, 14, 14, 512)       2359808   \n",
            "                                                                 \n",
            " block5_conv2 (Conv2D)       (None, 14, 14, 512)       2359808   \n",
            "                                                                 \n",
            " block5_conv3 (Conv2D)       (None, 14, 14, 512)       2359808   \n",
            "                                                                 \n",
            " block5_pool (MaxPooling2D)  (None, 7, 7, 512)         0         \n",
            "                                                                 \n",
            " flatten_1 (Flatten)         (None, 25088)             0         \n",
            "                                                                 \n",
            " dense_1 (Dense)             (None, 2)                 50178     \n",
            "                                                                 \n",
            "=================================================================\n",
            "Total params: 14,764,866\n",
            "Trainable params: 50,178\n",
            "Non-trainable params: 14,714,688\n",
            "_________________________________________________________________\n"
          ]
        }
      ]
    },
    {
      "cell_type": "code",
      "source": [
        "# tell the model what cost and optimization method to use\n",
        "model.compile(\n",
        "  loss='categorical_crossentropy',\n",
        "  optimizer='adam',\n",
        "  metrics=['accuracy']\n",
        ")"
      ],
      "metadata": {
        "id": "isB1oBCgVcgh"
      },
      "execution_count": 20,
      "outputs": []
    },
    {
      "cell_type": "code",
      "source": [
        "from keras.preprocessing.image import ImageDataGenerator\n",
        "\n",
        "train_datagen = ImageDataGenerator(rescale = 1./255,\n",
        "                                   rotation_range=180,\n",
        "                                   zoom_range=0.2,\n",
        "                                   horizontal_flip = True,\n",
        "                                   vertical_flip = True)\n",
        "\n",
        "test_datagen = ImageDataGenerator(rescale = 1./255)"
      ],
      "metadata": {
        "id": "N1Rqq5nEV2I6"
      },
      "execution_count": 21,
      "outputs": []
    },
    {
      "cell_type": "code",
      "source": [
        "training_set = train_datagen.flow_from_directory('/content/drive/MyDrive/Capstone dataset/Images-out/train',\n",
        "                                                 target_size = (224, 224),\n",
        "                                                 batch_size = 16,\n",
        "                                                 class_mode = 'categorical')\n",
        "\n",
        "test_set = test_datagen.flow_from_directory('/content/drive/MyDrive/Capstone dataset/Images-out/test',\n",
        "                                            target_size = (224, 224),\n",
        "                                            batch_size = 16,\n",
        "                                            class_mode = 'categorical')"
      ],
      "metadata": {
        "colab": {
          "base_uri": "https://localhost:8080/"
        },
        "id": "3nXfJroOXh0X",
        "outputId": "8515a4ac-7f79-4b99-b964-9c23f046c52e"
      },
      "execution_count": 26,
      "outputs": [
        {
          "output_type": "stream",
          "name": "stdout",
          "text": [
            "Found 490 images belonging to 2 classes.\n",
            "Found 57 images belonging to 2 classes.\n"
          ]
        }
      ]
    },
    {
      "cell_type": "code",
      "source": [
        "r = model.fit_generator(\n",
        "  training_set,\n",
        "  validation_data=test_set,\n",
        "  epochs=15,\n",
        "  steps_per_epoch=len(training_set),\n",
        "  validation_steps=len(test_set)\n",
        ")"
      ],
      "metadata": {
        "colab": {
          "base_uri": "https://localhost:8080/"
        },
        "id": "_23BzJRhYlYq",
        "outputId": "2df98239-659c-4901-a7ac-9ee2c653d250"
      },
      "execution_count": 27,
      "outputs": [
        {
          "output_type": "stream",
          "name": "stderr",
          "text": [
            "<ipython-input-27-694816f4f14b>:1: UserWarning: `Model.fit_generator` is deprecated and will be removed in a future version. Please use `Model.fit`, which supports generators.\n",
            "  r = model.fit_generator(\n"
          ]
        },
        {
          "output_type": "stream",
          "name": "stdout",
          "text": [
            "Epoch 1/15\n",
            "31/31 [==============================] - 320s 10s/step - loss: 0.7498 - accuracy: 0.6408 - val_loss: 0.6276 - val_accuracy: 0.7018\n",
            "Epoch 2/15\n",
            "31/31 [==============================] - 320s 10s/step - loss: 0.5591 - accuracy: 0.7327 - val_loss: 0.5870 - val_accuracy: 0.6842\n",
            "Epoch 3/15\n",
            "31/31 [==============================] - 321s 10s/step - loss: 0.5680 - accuracy: 0.7286 - val_loss: 0.5341 - val_accuracy: 0.7193\n",
            "Epoch 4/15\n",
            "31/31 [==============================] - 320s 10s/step - loss: 0.5645 - accuracy: 0.7224 - val_loss: 0.6051 - val_accuracy: 0.6316\n",
            "Epoch 5/15\n",
            "31/31 [==============================] - 310s 10s/step - loss: 0.5608 - accuracy: 0.7143 - val_loss: 0.5171 - val_accuracy: 0.7368\n",
            "Epoch 6/15\n",
            "31/31 [==============================] - 314s 10s/step - loss: 0.5511 - accuracy: 0.7224 - val_loss: 0.5102 - val_accuracy: 0.7895\n",
            "Epoch 7/15\n",
            "31/31 [==============================] - 322s 10s/step - loss: 0.5304 - accuracy: 0.7327 - val_loss: 0.5390 - val_accuracy: 0.7368\n",
            "Epoch 8/15\n",
            "31/31 [==============================] - 323s 10s/step - loss: 0.5840 - accuracy: 0.7000 - val_loss: 0.5048 - val_accuracy: 0.7719\n",
            "Epoch 9/15\n",
            "31/31 [==============================] - 322s 10s/step - loss: 0.5368 - accuracy: 0.7224 - val_loss: 0.5668 - val_accuracy: 0.6842\n",
            "Epoch 10/15\n",
            "31/31 [==============================] - 324s 10s/step - loss: 0.5562 - accuracy: 0.7122 - val_loss: 0.6175 - val_accuracy: 0.7193\n",
            "Epoch 11/15\n",
            "31/31 [==============================] - 325s 11s/step - loss: 0.5957 - accuracy: 0.7041 - val_loss: 0.5807 - val_accuracy: 0.7193\n",
            "Epoch 12/15\n",
            "31/31 [==============================] - 311s 10s/step - loss: 0.5830 - accuracy: 0.6837 - val_loss: 0.5173 - val_accuracy: 0.7193\n",
            "Epoch 13/15\n",
            "31/31 [==============================] - 312s 10s/step - loss: 0.5415 - accuracy: 0.7449 - val_loss: 0.5372 - val_accuracy: 0.7719\n",
            "Epoch 14/15\n",
            "31/31 [==============================] - 312s 10s/step - loss: 0.5170 - accuracy: 0.7755 - val_loss: 0.4822 - val_accuracy: 0.8070\n",
            "Epoch 15/15\n",
            "31/31 [==============================] - 320s 10s/step - loss: 0.5634 - accuracy: 0.7245 - val_loss: 0.4897 - val_accuracy: 0.7895\n"
          ]
        }
      ]
    },
    {
      "cell_type": "code",
      "source": [
        "import tensorflow as tf\n",
        "\n",
        "from keras.models import load_model\n",
        "\n",
        "model.save('scanpath_features_new_model.h5')"
      ],
      "metadata": {
        "id": "Ya-CvDCU0fvr"
      },
      "execution_count": 28,
      "outputs": []
    },
    {
      "cell_type": "code",
      "source": [
        "# Let's take a look to see how many layers are in the base model\n",
        "print(\"Number of layers in the base model: \", len(vgg.layers))"
      ],
      "metadata": {
        "colab": {
          "base_uri": "https://localhost:8080/"
        },
        "id": "3l0z60og-MWN",
        "outputId": "46bb8559-db7f-4851-c8df-404b213e5464"
      },
      "execution_count": 30,
      "outputs": [
        {
          "output_type": "stream",
          "name": "stdout",
          "text": [
            "Number of layers in the base model:  19\n"
          ]
        }
      ]
    },
    {
      "cell_type": "code",
      "source": [
        "# Fine-tune from this layer onwards\n",
        "fine_tune_at = 100"
      ],
      "metadata": {
        "id": "WyFLEpLSAlxc"
      },
      "execution_count": 31,
      "outputs": []
    },
    {
      "cell_type": "code",
      "source": [
        "# Freeze all the layers before the `fine_tune_at` layer\n",
        "for layer in vgg.layers[:fine_tune_at]:\n",
        "  layer.trainable = False"
      ],
      "metadata": {
        "id": "woNoHBcDAxG9"
      },
      "execution_count": 32,
      "outputs": []
    },
    {
      "cell_type": "code",
      "source": [
        "base_learning_rate = 0.0001"
      ],
      "metadata": {
        "id": "SHOra6DIBfBg"
      },
      "execution_count": 34,
      "outputs": []
    },
    {
      "cell_type": "code",
      "source": [
        "model.compile(\n",
        "  loss='categorical_crossentropy',\n",
        "  optimizer=tf.keras.optimizers.Adam(learning_rate=base_learning_rate/10),\n",
        "  metrics=['accuracy']\n",
        ")"
      ],
      "metadata": {
        "id": "1fJXd9hhBX4W"
      },
      "execution_count": 35,
      "outputs": []
    },
    {
      "cell_type": "code",
      "source": [
        "model.summary()"
      ],
      "metadata": {
        "colab": {
          "base_uri": "https://localhost:8080/"
        },
        "id": "OXsxbzY_Bq9A",
        "outputId": "3206366c-494b-4f84-b318-17c27614ba62"
      },
      "execution_count": 36,
      "outputs": [
        {
          "output_type": "stream",
          "name": "stdout",
          "text": [
            "Model: \"model_1\"\n",
            "_________________________________________________________________\n",
            " Layer (type)                Output Shape              Param #   \n",
            "=================================================================\n",
            " input_2 (InputLayer)        [(None, 224, 224, 3)]     0         \n",
            "                                                                 \n",
            " block1_conv1 (Conv2D)       (None, 224, 224, 64)      1792      \n",
            "                                                                 \n",
            " block1_conv2 (Conv2D)       (None, 224, 224, 64)      36928     \n",
            "                                                                 \n",
            " block1_pool (MaxPooling2D)  (None, 112, 112, 64)      0         \n",
            "                                                                 \n",
            " block2_conv1 (Conv2D)       (None, 112, 112, 128)     73856     \n",
            "                                                                 \n",
            " block2_conv2 (Conv2D)       (None, 112, 112, 128)     147584    \n",
            "                                                                 \n",
            " block2_pool (MaxPooling2D)  (None, 56, 56, 128)       0         \n",
            "                                                                 \n",
            " block3_conv1 (Conv2D)       (None, 56, 56, 256)       295168    \n",
            "                                                                 \n",
            " block3_conv2 (Conv2D)       (None, 56, 56, 256)       590080    \n",
            "                                                                 \n",
            " block3_conv3 (Conv2D)       (None, 56, 56, 256)       590080    \n",
            "                                                                 \n",
            " block3_pool (MaxPooling2D)  (None, 28, 28, 256)       0         \n",
            "                                                                 \n",
            " block4_conv1 (Conv2D)       (None, 28, 28, 512)       1180160   \n",
            "                                                                 \n",
            " block4_conv2 (Conv2D)       (None, 28, 28, 512)       2359808   \n",
            "                                                                 \n",
            " block4_conv3 (Conv2D)       (None, 28, 28, 512)       2359808   \n",
            "                                                                 \n",
            " block4_pool (MaxPooling2D)  (None, 14, 14, 512)       0         \n",
            "                                                                 \n",
            " block5_conv1 (Conv2D)       (None, 14, 14, 512)       2359808   \n",
            "                                                                 \n",
            " block5_conv2 (Conv2D)       (None, 14, 14, 512)       2359808   \n",
            "                                                                 \n",
            " block5_conv3 (Conv2D)       (None, 14, 14, 512)       2359808   \n",
            "                                                                 \n",
            " block5_pool (MaxPooling2D)  (None, 7, 7, 512)         0         \n",
            "                                                                 \n",
            " flatten_1 (Flatten)         (None, 25088)             0         \n",
            "                                                                 \n",
            " dense_1 (Dense)             (None, 2)                 50178     \n",
            "                                                                 \n",
            "=================================================================\n",
            "Total params: 14,764,866\n",
            "Trainable params: 50,178\n",
            "Non-trainable params: 14,714,688\n",
            "_________________________________________________________________\n"
          ]
        }
      ]
    },
    {
      "cell_type": "code",
      "source": [
        "r_fine = model.fit_generator(\n",
        "  training_set,\n",
        "  validation_data=test_set,\n",
        "  epochs=25,\n",
        "  initial_epoch=r.epoch[-1],\n",
        "  steps_per_epoch=len(training_set),\n",
        "  validation_steps=len(test_set)\n",
        ")"
      ],
      "metadata": {
        "colab": {
          "base_uri": "https://localhost:8080/"
        },
        "id": "5ztnZLLWBsKq",
        "outputId": "25e42429-6c50-4225-abd7-36a12e5b7004"
      },
      "execution_count": 38,
      "outputs": [
        {
          "output_type": "stream",
          "name": "stderr",
          "text": [
            "<ipython-input-38-9f0fce5f64e2>:1: UserWarning: `Model.fit_generator` is deprecated and will be removed in a future version. Please use `Model.fit`, which supports generators.\n",
            "  r_fine = model.fit_generator(\n"
          ]
        },
        {
          "output_type": "stream",
          "name": "stdout",
          "text": [
            "Epoch 15/25\n",
            "31/31 [==============================] - 328s 11s/step - loss: 0.4856 - accuracy: 0.7776 - val_loss: 0.4917 - val_accuracy: 0.7719\n",
            "Epoch 16/25\n",
            "31/31 [==============================] - 315s 10s/step - loss: 0.5051 - accuracy: 0.7531 - val_loss: 0.4891 - val_accuracy: 0.7895\n",
            "Epoch 17/25\n",
            "31/31 [==============================] - 313s 10s/step - loss: 0.4798 - accuracy: 0.7776 - val_loss: 0.4904 - val_accuracy: 0.7895\n",
            "Epoch 18/25\n",
            "31/31 [==============================] - 315s 10s/step - loss: 0.4859 - accuracy: 0.7837 - val_loss: 0.4895 - val_accuracy: 0.7895\n",
            "Epoch 19/25\n",
            "31/31 [==============================] - 325s 10s/step - loss: 0.4987 - accuracy: 0.7531 - val_loss: 0.4904 - val_accuracy: 0.7895\n",
            "Epoch 20/25\n",
            "31/31 [==============================] - 316s 10s/step - loss: 0.5067 - accuracy: 0.7592 - val_loss: 0.4909 - val_accuracy: 0.7895\n",
            "Epoch 21/25\n",
            "31/31 [==============================] - 320s 10s/step - loss: 0.4969 - accuracy: 0.7694 - val_loss: 0.4901 - val_accuracy: 0.7895\n",
            "Epoch 22/25\n",
            "31/31 [==============================] - 314s 10s/step - loss: 0.5030 - accuracy: 0.7633 - val_loss: 0.4885 - val_accuracy: 0.7895\n",
            "Epoch 23/25\n",
            "31/31 [==============================] - 322s 10s/step - loss: 0.5011 - accuracy: 0.7673 - val_loss: 0.4909 - val_accuracy: 0.7895\n",
            "Epoch 24/25\n",
            "31/31 [==============================] - 310s 10s/step - loss: 0.4908 - accuracy: 0.7714 - val_loss: 0.4903 - val_accuracy: 0.7895\n",
            "Epoch 25/25\n",
            "31/31 [==============================] - 322s 10s/step - loss: 0.4979 - accuracy: 0.7673 - val_loss: 0.4893 - val_accuracy: 0.7895\n"
          ]
        }
      ]
    },
    {
      "cell_type": "code",
      "source": [
        "loss, accuracy = model.evaluate(test_set)\n",
        "print('Test accuracy :', accuracy)"
      ],
      "metadata": {
        "colab": {
          "base_uri": "https://localhost:8080/"
        },
        "id": "aZQokUkwR4A2",
        "outputId": "184e8e9f-a9c9-451d-d0be-452ebf2b0601"
      },
      "execution_count": 40,
      "outputs": [
        {
          "output_type": "stream",
          "name": "stdout",
          "text": [
            "4/4 [==============================] - 32s 8s/step - loss: 0.4893 - accuracy: 0.7895\n",
            "Test accuracy : 0.7894737124443054\n"
          ]
        }
      ]
    }
  ]
}