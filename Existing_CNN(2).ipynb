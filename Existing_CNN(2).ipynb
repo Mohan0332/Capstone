{
  "nbformat": 4,
  "nbformat_minor": 0,
  "metadata": {
    "colab": {
      "provenance": [],
      "authorship_tag": "ABX9TyO20rcsEYRI4WYPUNCHzyZ9",
      "include_colab_link": true
    },
    "kernelspec": {
      "name": "python3",
      "display_name": "Python 3"
    },
    "language_info": {
      "name": "python"
    }
  },
  "cells": [
    {
      "cell_type": "markdown",
      "metadata": {
        "id": "view-in-github",
        "colab_type": "text"
      },
      "source": [
        "<a href=\"https://colab.research.google.com/github/Mohan0332/Capstone/blob/main/Existing_CNN(2).ipynb\" target=\"_parent\"><img src=\"https://colab.research.google.com/assets/colab-badge.svg\" alt=\"Open In Colab\"/></a>"
      ]
    },
    {
      "cell_type": "markdown",
      "source": [
        "#Implementation of the exisiting model"
      ],
      "metadata": {
        "id": "Csfs6V4_dxw4"
      }
    },
    {
      "cell_type": "code",
      "source": [
        "import numpy as np\n",
        "from PIL import Image\n",
        "import os"
      ],
      "metadata": {
        "id": "9yvJePjkd4L7"
      },
      "execution_count": 36,
      "outputs": []
    },
    {
      "cell_type": "code",
      "source": [
        "# function to convert a image to grayscale \n",
        "def rgb_to_gray(rgb_img):\n",
        "    # Convert the image to a NumPy array\n",
        "    rgb_array = np.array(rgb_img)\n",
        "\n",
        "    # Create an empty grayscale image array with the same dimensions as the RGB image\n",
        "    gray_array = np.empty(rgb_array.shape[:2], dtype=np.uint8)\n",
        "\n",
        "    # Calculate the luminance value for each pixel in the RGB image and assign it to the grayscale image array\n",
        "    for i in range(rgb_array.shape[0]):\n",
        "        for j in range(rgb_array.shape[1]):\n",
        "            r, g, b = rgb_array[i,j]\n",
        "            luminance = int(0.2989 * r + 0.5870 * g + 0.1140 * b)\n",
        "            gray_array[i,j] = luminance\n",
        "    \n",
        "    gray_img = Image.fromarray(gray_array)\n",
        "    return gray_img"
      ],
      "metadata": {
        "id": "rmxkf-O8eoVN"
      },
      "execution_count": 37,
      "outputs": []
    },
    {
      "cell_type": "code",
      "source": [
        "from google.colab import drive\n",
        "drive.mount('/content/drive')"
      ],
      "metadata": {
        "colab": {
          "base_uri": "https://localhost:8080/"
        },
        "id": "mfSwF6MRjgo0",
        "outputId": "d95cc237-9a43-418f-a815-0c7112718a14"
      },
      "execution_count": 38,
      "outputs": [
        {
          "output_type": "stream",
          "name": "stdout",
          "text": [
            "Drive already mounted at /content/drive; to attempt to forcibly remount, call drive.mount(\"/content/drive\", force_remount=True).\n"
          ]
        }
      ]
    },
    {
      "cell_type": "code",
      "source": [
        "data = []\n",
        "labels = []\n",
        "classes = 2\n",
        "cur_path = '/content/drive/MyDrive/Capstone dataset/Images-out_RGB'\n",
        "\n",
        "#Retrieving the images and their labels \n",
        "for i in range(classes):\n",
        "    path = os.path.join(cur_path,'train',str(i))\n",
        "    images = os.listdir(path)\n",
        "    for a in images:\n",
        "        try:\n",
        "            image = Image.open(path + '/'+ a)\n",
        "            image = image.resize((100,100))\n",
        "            img = rgb_to_gray(image)\n",
        "            img = np.array(img)\n",
        "            img = img.reshape((100, 100, 1))\n",
        "            #image = np.array(image)\n",
        "            #sim = Image.fromarray(image)\n",
        "            data.append(img)\n",
        "            labels.append(i)\n",
        "        except:\n",
        "            print(\"Error loading image\")"
      ],
      "metadata": {
        "id": "z_KmdDNPjiYW"
      },
      "execution_count": 39,
      "outputs": []
    },
    {
      "cell_type": "code",
      "source": [
        "data = np.array(data)\n",
        "labels = np.array(labels)"
      ],
      "metadata": {
        "id": "MtcZaJnVm2NC"
      },
      "execution_count": 40,
      "outputs": []
    },
    {
      "cell_type": "code",
      "source": [
        "print(data.shape, labels.shape)"
      ],
      "metadata": {
        "colab": {
          "base_uri": "https://localhost:8080/"
        },
        "id": "-gNzUiqum8wM",
        "outputId": "ac485f80-d0cf-4615-99a2-750a634fd684"
      },
      "execution_count": 41,
      "outputs": [
        {
          "output_type": "stream",
          "name": "stdout",
          "text": [
            "(490, 100, 100, 1) (490,)\n"
          ]
        }
      ]
    },
    {
      "cell_type": "code",
      "source": [
        "import pandas as pd \n",
        "import matplotlib.pyplot as plt\n",
        "import cv2\n",
        "import tensorflow as tf\n",
        "from PIL import Image\n",
        "import os\n",
        "from sklearn.model_selection import train_test_split\n",
        "from keras.utils import to_categorical\n",
        "from keras.models import Sequential, load_model\n",
        "from keras.layers import Conv2D, MaxPool2D, Dense, Flatten, Dropout"
      ],
      "metadata": {
        "id": "3Q-Bbkw_m_nz"
      },
      "execution_count": 42,
      "outputs": []
    },
    {
      "cell_type": "code",
      "source": [
        "#Splitting training and testing dataset\n",
        "X_train, X_test, y_train, y_test = train_test_split(data, labels, test_size=0.22, random_state=42)"
      ],
      "metadata": {
        "id": "12fV_xjTnK-C"
      },
      "execution_count": 43,
      "outputs": []
    },
    {
      "cell_type": "code",
      "source": [
        "print(X_train.shape, X_test.shape, y_train.shape, y_test.shape)"
      ],
      "metadata": {
        "colab": {
          "base_uri": "https://localhost:8080/"
        },
        "id": "zoqcKGkrnOei",
        "outputId": "19075e38-16fe-4a53-e089-d139608b6476"
      },
      "execution_count": 44,
      "outputs": [
        {
          "output_type": "stream",
          "name": "stdout",
          "text": [
            "(382, 100, 100, 1) (108, 100, 100, 1) (382,) (108,)\n"
          ]
        }
      ]
    },
    {
      "cell_type": "code",
      "source": [
        "#Converting the labels into one hot encoding\n",
        "y_train = to_categorical(y_train, 2)\n",
        "y_test = to_categorical(y_test, 2)"
      ],
      "metadata": {
        "id": "rPiOiBABnPsj"
      },
      "execution_count": 45,
      "outputs": []
    },
    {
      "cell_type": "code",
      "source": [
        "#Building the model\n",
        "model = Sequential()\n",
        "model.add(Conv2D(filters=16, kernel_size=(3,3), activation='relu', input_shape=(100,100,1)))\n",
        "model.add(MaxPool2D(pool_size=(2, 2)))\n",
        "model.add(Conv2D(filters=32, kernel_size=(3,3), activation='relu'))\n",
        "model.add(MaxPool2D(pool_size=(2, 2)))\n",
        "model.add(Conv2D(filters=64, kernel_size=(3,3), activation='relu'))\n",
        "model.add(MaxPool2D(pool_size=(2, 2)))\n",
        "model.add(Conv2D(filters=128, kernel_size=(3,3), activation='relu'))\n",
        "model.add(MaxPool2D(pool_size=(2, 2)))\n",
        "model.add(Flatten())\n",
        "model.add(Dense(256, activation='relu'))\n",
        "model.add(Dense(128, activation='relu'))\n",
        "model.add(Dense(2, activation='sigmoid'))"
      ],
      "metadata": {
        "id": "lNvqsB5tnXvz"
      },
      "execution_count": 46,
      "outputs": []
    },
    {
      "cell_type": "code",
      "source": [
        "#Compilation of the model\n",
        "model.compile(loss='binary_crossentropy', optimizer='adam', metrics=['accuracy'])"
      ],
      "metadata": {
        "id": "OTlyepoLoqvR"
      },
      "execution_count": 47,
      "outputs": []
    },
    {
      "cell_type": "code",
      "source": [
        "model.summary()"
      ],
      "metadata": {
        "colab": {
          "base_uri": "https://localhost:8080/"
        },
        "id": "zv3ohxEwosnR",
        "outputId": "d7091fb3-a54c-46dd-a364-35db92d9c230"
      },
      "execution_count": 48,
      "outputs": [
        {
          "output_type": "stream",
          "name": "stdout",
          "text": [
            "Model: \"sequential_2\"\n",
            "_________________________________________________________________\n",
            " Layer (type)                Output Shape              Param #   \n",
            "=================================================================\n",
            " conv2d_8 (Conv2D)           (None, 98, 98, 16)        160       \n",
            "                                                                 \n",
            " max_pooling2d_8 (MaxPooling  (None, 49, 49, 16)       0         \n",
            " 2D)                                                             \n",
            "                                                                 \n",
            " conv2d_9 (Conv2D)           (None, 47, 47, 32)        4640      \n",
            "                                                                 \n",
            " max_pooling2d_9 (MaxPooling  (None, 23, 23, 32)       0         \n",
            " 2D)                                                             \n",
            "                                                                 \n",
            " conv2d_10 (Conv2D)          (None, 21, 21, 64)        18496     \n",
            "                                                                 \n",
            " max_pooling2d_10 (MaxPoolin  (None, 10, 10, 64)       0         \n",
            " g2D)                                                            \n",
            "                                                                 \n",
            " conv2d_11 (Conv2D)          (None, 8, 8, 128)         73856     \n",
            "                                                                 \n",
            " max_pooling2d_11 (MaxPoolin  (None, 4, 4, 128)        0         \n",
            " g2D)                                                            \n",
            "                                                                 \n",
            " flatten_2 (Flatten)         (None, 2048)              0         \n",
            "                                                                 \n",
            " dense_6 (Dense)             (None, 256)               524544    \n",
            "                                                                 \n",
            " dense_7 (Dense)             (None, 128)               32896     \n",
            "                                                                 \n",
            " dense_8 (Dense)             (None, 2)                 258       \n",
            "                                                                 \n",
            "=================================================================\n",
            "Total params: 654,850\n",
            "Trainable params: 654,850\n",
            "Non-trainable params: 0\n",
            "_________________________________________________________________\n"
          ]
        }
      ]
    },
    {
      "cell_type": "code",
      "source": [
        "epochs = 25\n",
        "history = model.fit(X_train, y_train, batch_size=16, epochs=epochs, validation_data=(X_test, y_test))"
      ],
      "metadata": {
        "id": "YfPsi15Pot68",
        "colab": {
          "base_uri": "https://localhost:8080/"
        },
        "outputId": "fdb38beb-0b1d-492b-a0f8-6029c35eca33"
      },
      "execution_count": 49,
      "outputs": [
        {
          "output_type": "stream",
          "name": "stdout",
          "text": [
            "Epoch 1/25\n",
            "24/24 [==============================] - 6s 179ms/step - loss: 0.7310 - accuracy: 0.6283 - val_loss: 0.6290 - val_accuracy: 0.6481\n",
            "Epoch 2/25\n",
            "24/24 [==============================] - 5s 208ms/step - loss: 0.5243 - accuracy: 0.7723 - val_loss: 0.6089 - val_accuracy: 0.6759\n",
            "Epoch 3/25\n",
            "24/24 [==============================] - 3s 137ms/step - loss: 0.4655 - accuracy: 0.7853 - val_loss: 0.5524 - val_accuracy: 0.6944\n",
            "Epoch 4/25\n",
            "24/24 [==============================] - 3s 136ms/step - loss: 0.4018 - accuracy: 0.8272 - val_loss: 0.5673 - val_accuracy: 0.6944\n",
            "Epoch 5/25\n",
            "24/24 [==============================] - 4s 183ms/step - loss: 0.3282 - accuracy: 0.8848 - val_loss: 0.5210 - val_accuracy: 0.7315\n",
            "Epoch 6/25\n",
            "24/24 [==============================] - 4s 177ms/step - loss: 0.2992 - accuracy: 0.8848 - val_loss: 0.9417 - val_accuracy: 0.6852\n",
            "Epoch 7/25\n",
            "24/24 [==============================] - 5s 224ms/step - loss: 0.2423 - accuracy: 0.9136 - val_loss: 0.7252 - val_accuracy: 0.7037\n",
            "Epoch 8/25\n",
            "24/24 [==============================] - 4s 164ms/step - loss: 0.1687 - accuracy: 0.9319 - val_loss: 0.6388 - val_accuracy: 0.7222\n",
            "Epoch 9/25\n",
            "24/24 [==============================] - 5s 196ms/step - loss: 0.0832 - accuracy: 0.9712 - val_loss: 0.8360 - val_accuracy: 0.7222\n",
            "Epoch 10/25\n",
            "24/24 [==============================] - 3s 140ms/step - loss: 0.0374 - accuracy: 0.9921 - val_loss: 0.9768 - val_accuracy: 0.7222\n",
            "Epoch 11/25\n",
            "24/24 [==============================] - 3s 142ms/step - loss: 0.0103 - accuracy: 0.9974 - val_loss: 1.5177 - val_accuracy: 0.7315\n",
            "Epoch 12/25\n",
            "24/24 [==============================] - 5s 205ms/step - loss: 0.0046 - accuracy: 1.0000 - val_loss: 1.2309 - val_accuracy: 0.7222\n",
            "Epoch 13/25\n",
            "24/24 [==============================] - 4s 152ms/step - loss: 9.1154e-04 - accuracy: 1.0000 - val_loss: 1.2796 - val_accuracy: 0.7315\n",
            "Epoch 14/25\n",
            "24/24 [==============================] - 3s 136ms/step - loss: 4.8162e-04 - accuracy: 1.0000 - val_loss: 1.3849 - val_accuracy: 0.7222\n",
            "Epoch 15/25\n",
            "24/24 [==============================] - 3s 139ms/step - loss: 2.8114e-04 - accuracy: 1.0000 - val_loss: 1.4302 - val_accuracy: 0.7222\n",
            "Epoch 16/25\n",
            "24/24 [==============================] - 5s 227ms/step - loss: 2.1358e-04 - accuracy: 1.0000 - val_loss: 1.4221 - val_accuracy: 0.7130\n",
            "Epoch 17/25\n",
            "24/24 [==============================] - 3s 139ms/step - loss: 1.7594e-04 - accuracy: 1.0000 - val_loss: 1.4380 - val_accuracy: 0.7130\n",
            "Epoch 18/25\n",
            "24/24 [==============================] - 3s 138ms/step - loss: 1.5133e-04 - accuracy: 1.0000 - val_loss: 1.4687 - val_accuracy: 0.7130\n",
            "Epoch 19/25\n",
            "24/24 [==============================] - 3s 138ms/step - loss: 1.3310e-04 - accuracy: 1.0000 - val_loss: 1.4763 - val_accuracy: 0.7130\n",
            "Epoch 20/25\n",
            "24/24 [==============================] - 5s 222ms/step - loss: 1.1623e-04 - accuracy: 1.0000 - val_loss: 1.4970 - val_accuracy: 0.7130\n",
            "Epoch 21/25\n",
            "24/24 [==============================] - 3s 137ms/step - loss: 1.0469e-04 - accuracy: 1.0000 - val_loss: 1.5116 - val_accuracy: 0.7130\n",
            "Epoch 22/25\n",
            "24/24 [==============================] - 3s 136ms/step - loss: 9.4019e-05 - accuracy: 1.0000 - val_loss: 1.5241 - val_accuracy: 0.7130\n",
            "Epoch 23/25\n",
            "24/24 [==============================] - 4s 173ms/step - loss: 8.4534e-05 - accuracy: 1.0000 - val_loss: 1.5327 - val_accuracy: 0.7130\n",
            "Epoch 24/25\n",
            "24/24 [==============================] - 5s 190ms/step - loss: 7.6885e-05 - accuracy: 1.0000 - val_loss: 1.5439 - val_accuracy: 0.7130\n",
            "Epoch 25/25\n",
            "24/24 [==============================] - 3s 141ms/step - loss: 7.0568e-05 - accuracy: 1.0000 - val_loss: 1.5607 - val_accuracy: 0.7130\n"
          ]
        }
      ]
    },
    {
      "cell_type": "code",
      "source": [
        "data = []\n",
        "labels = []\n",
        "classes = 2\n",
        "cur_path = '/content/drive/MyDrive/Capstone dataset/Images-out_RGB'\n",
        "\n",
        "#Retrieving the images and their labels \n",
        "for i in range(classes):\n",
        "    path = os.path.join(cur_path,'test',str(i))\n",
        "    images = os.listdir(path)\n",
        "    for a in images:\n",
        "        try:\n",
        "            image = Image.open(path + '/'+ a)\n",
        "            image = image.resize((100,100))\n",
        "            img = rgb_to_gray(image)\n",
        "            img = np.array(img)\n",
        "            img = img.reshape((100, 100, 1))\n",
        "            #sim = Image.fromarray(image)\n",
        "            data.append(img)\n",
        "            labels.append(i)\n",
        "        except:\n",
        "            print(\"Error loading image\")\n",
        "     \n"
      ],
      "metadata": {
        "id": "7eSq3Syxsh23"
      },
      "execution_count": 50,
      "outputs": []
    },
    {
      "cell_type": "code",
      "source": [
        "x_test=np.array(data)"
      ],
      "metadata": {
        "id": "M5J7vIcLtGFf"
      },
      "execution_count": 51,
      "outputs": []
    },
    {
      "cell_type": "code",
      "source": [
        "x_test.shape"
      ],
      "metadata": {
        "colab": {
          "base_uri": "https://localhost:8080/"
        },
        "id": "kp7aWjuQtHQA",
        "outputId": "f17c3851-0c70-466e-ba61-5a955ab2432a"
      },
      "execution_count": 52,
      "outputs": [
        {
          "output_type": "execute_result",
          "data": {
            "text/plain": [
              "(57, 100, 100, 1)"
            ]
          },
          "metadata": {},
          "execution_count": 52
        }
      ]
    },
    {
      "cell_type": "code",
      "source": [
        "y_pred_prob = model.predict(x_test)\n",
        "y_pred = np.argmax(y_pred_prob, axis=1)"
      ],
      "metadata": {
        "colab": {
          "base_uri": "https://localhost:8080/"
        },
        "id": "ED6lUmzftOtg",
        "outputId": "55c08ff4-84f7-4d44-ca31-9817519f6ac9"
      },
      "execution_count": 53,
      "outputs": [
        {
          "output_type": "stream",
          "name": "stdout",
          "text": [
            "2/2 [==============================] - 0s 83ms/step\n"
          ]
        }
      ]
    },
    {
      "cell_type": "code",
      "source": [
        "from sklearn.metrics import accuracy_score\n",
        "print(accuracy_score(labels,y_pred ))"
      ],
      "metadata": {
        "colab": {
          "base_uri": "https://localhost:8080/"
        },
        "id": "RFAW7GfKtRGD",
        "outputId": "73c931ba-dbbd-4fad-8b14-0abda4595410"
      },
      "execution_count": 56,
      "outputs": [
        {
          "output_type": "stream",
          "name": "stdout",
          "text": [
            "0.6666666666666666\n"
          ]
        }
      ]
    }
  ]
}