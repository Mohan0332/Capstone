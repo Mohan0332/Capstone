{
  "nbformat": 4,
  "nbformat_minor": 0,
  "metadata": {
    "colab": {
      "provenance": [],
      "authorship_tag": "ABX9TyM8TzYizGd8WxLPqPBU+2u3",
      "include_colab_link": true
    },
    "kernelspec": {
      "name": "python3",
      "display_name": "Python 3"
    },
    "language_info": {
      "name": "python"
    }
  },
  "cells": [
    {
      "cell_type": "markdown",
      "metadata": {
        "id": "view-in-github",
        "colab_type": "text"
      },
      "source": [
        "<a href=\"https://colab.research.google.com/github/Mohan0332/Capstone/blob/main/Existing_CNN.ipynb\" target=\"_parent\"><img src=\"https://colab.research.google.com/assets/colab-badge.svg\" alt=\"Open In Colab\"/></a>"
      ]
    },
    {
      "cell_type": "markdown",
      "source": [
        "#Implementation of the exisiting model"
      ],
      "metadata": {
        "id": "Csfs6V4_dxw4"
      }
    },
    {
      "cell_type": "code",
      "source": [
        "import numpy as np\n",
        "from PIL import Image\n",
        "import os"
      ],
      "metadata": {
        "id": "9yvJePjkd4L7"
      },
      "execution_count": 1,
      "outputs": []
    },
    {
      "cell_type": "code",
      "source": [
        "# function to convert a image to grayscale \n",
        "def rgb_to_gray(rgb_img):\n",
        "    # Convert the image to a NumPy array\n",
        "    rgb_array = np.array(rgb_img)\n",
        "\n",
        "    # Create an empty grayscale image array with the same dimensions as the RGB image\n",
        "    gray_array = np.empty(rgb_array.shape[:2], dtype=np.uint8)\n",
        "\n",
        "    # Calculate the luminance value for each pixel in the RGB image and assign it to the grayscale image array\n",
        "    for i in range(rgb_array.shape[0]):\n",
        "        for j in range(rgb_array.shape[1]):\n",
        "            r, g, b = rgb_array[i,j]\n",
        "            luminance = int(0.2989 * r + 0.5870 * g + 0.1140 * b)\n",
        "            gray_array[i,j] = luminance\n",
        "    \n",
        "    gray_img = Image.fromarray(gray_array)\n",
        "    return gray_img"
      ],
      "metadata": {
        "id": "rmxkf-O8eoVN"
      },
      "execution_count": 2,
      "outputs": []
    },
    {
      "cell_type": "code",
      "source": [
        "from google.colab import drive\n",
        "drive.mount('/content/drive')"
      ],
      "metadata": {
        "colab": {
          "base_uri": "https://localhost:8080/"
        },
        "id": "mfSwF6MRjgo0",
        "outputId": "16933ee1-8120-4fe4-dd0c-798ae2d2b3bf"
      },
      "execution_count": 3,
      "outputs": [
        {
          "output_type": "stream",
          "name": "stdout",
          "text": [
            "Mounted at /content/drive\n"
          ]
        }
      ]
    },
    {
      "cell_type": "code",
      "source": [
        "data = []\n",
        "labels = []\n",
        "classes = 2\n",
        "cur_path = '/content/drive/MyDrive/Capstone dataset/Images-out_RGB'\n",
        "\n",
        "#Retrieving the images and their labels \n",
        "for i in range(classes):\n",
        "    path = os.path.join(cur_path,'train',str(i))\n",
        "    images = os.listdir(path)\n",
        "    for a in images:\n",
        "        try:\n",
        "            image = Image.open(path + '/'+ a)\n",
        "            image = image.resize((100,100))\n",
        "            img = rgb_to_gray(image)\n",
        "            img = np.array(img)\n",
        "            img = img.reshape((100, 100, 1))\n",
        "            #image = np.array(image)\n",
        "            #sim = Image.fromarray(image)\n",
        "            data.append(img)\n",
        "            labels.append(i)\n",
        "        except:\n",
        "            print(\"Error loading image\")"
      ],
      "metadata": {
        "id": "z_KmdDNPjiYW"
      },
      "execution_count": 5,
      "outputs": []
    },
    {
      "cell_type": "code",
      "source": [
        "data = np.array(data)\n",
        "labels = np.array(labels)"
      ],
      "metadata": {
        "id": "MtcZaJnVm2NC"
      },
      "execution_count": 6,
      "outputs": []
    },
    {
      "cell_type": "code",
      "source": [
        "print(data.shape, labels.shape)"
      ],
      "metadata": {
        "colab": {
          "base_uri": "https://localhost:8080/"
        },
        "id": "-gNzUiqum8wM",
        "outputId": "d4818756-1825-45b6-c8ea-bf8f6fec2e31"
      },
      "execution_count": 7,
      "outputs": [
        {
          "output_type": "stream",
          "name": "stdout",
          "text": [
            "(490, 100, 100, 1) (490,)\n"
          ]
        }
      ]
    },
    {
      "cell_type": "code",
      "source": [
        "import pandas as pd \n",
        "import matplotlib.pyplot as plt\n",
        "import cv2\n",
        "import tensorflow as tf\n",
        "from PIL import Image\n",
        "import os\n",
        "from sklearn.model_selection import train_test_split\n",
        "from keras.utils import to_categorical\n",
        "from keras.models import Sequential, load_model\n",
        "from keras.layers import Conv2D, MaxPool2D, Dense, Flatten, Dropout"
      ],
      "metadata": {
        "id": "3Q-Bbkw_m_nz"
      },
      "execution_count": 8,
      "outputs": []
    },
    {
      "cell_type": "code",
      "source": [
        "#Splitting training and testing dataset\n",
        "X_train, X_test, y_train, y_test = train_test_split(data, labels, test_size=0.22, random_state=42)"
      ],
      "metadata": {
        "id": "12fV_xjTnK-C"
      },
      "execution_count": 9,
      "outputs": []
    },
    {
      "cell_type": "code",
      "source": [
        "print(X_train.shape, X_test.shape, y_train.shape, y_test.shape)"
      ],
      "metadata": {
        "colab": {
          "base_uri": "https://localhost:8080/"
        },
        "id": "zoqcKGkrnOei",
        "outputId": "0192ad6a-a505-439c-92ba-76ad2f27986e"
      },
      "execution_count": 34,
      "outputs": [
        {
          "output_type": "stream",
          "name": "stdout",
          "text": [
            "(382, 100, 100, 1) (57, 100, 100, 1) (382, 2) (108, 2)\n"
          ]
        }
      ]
    },
    {
      "cell_type": "code",
      "source": [
        "#Converting the labels into one hot encoding\n",
        "y_train = to_categorical(y_train, 2)\n",
        "y_test = to_categorical(y_test, 2)"
      ],
      "metadata": {
        "id": "rPiOiBABnPsj"
      },
      "execution_count": 11,
      "outputs": []
    },
    {
      "cell_type": "code",
      "source": [
        "#Building the model\n",
        "model = Sequential()\n",
        "model.add(Conv2D(filters=16, kernel_size=(3,3), activation='relu', input_shape=(100,100,1)))\n",
        "model.add(MaxPool2D(pool_size=(2, 2)))\n",
        "model.add(Conv2D(filters=32, kernel_size=(3,3), activation='relu'))\n",
        "model.add(MaxPool2D(pool_size=(2, 2)))\n",
        "model.add(Conv2D(filters=64, kernel_size=(3,3), activation='relu'))\n",
        "model.add(MaxPool2D(pool_size=(2, 2)))\n",
        "model.add(Conv2D(filters=128, kernel_size=(3,3), activation='relu'))\n",
        "model.add(MaxPool2D(pool_size=(2, 2)))\n",
        "model.add(Flatten())\n",
        "model.add(Dense(256, activation='relu'))\n",
        "model.add(Dense(128, activation='relu'))\n",
        "model.add(Dense(2, activation='sigmoid'))"
      ],
      "metadata": {
        "id": "lNvqsB5tnXvz"
      },
      "execution_count": 15,
      "outputs": []
    },
    {
      "cell_type": "code",
      "source": [
        "#Compilation of the model\n",
        "model.compile(loss='binary_crossentropy', optimizer='adam', metrics=['accuracy'])"
      ],
      "metadata": {
        "id": "OTlyepoLoqvR"
      },
      "execution_count": 16,
      "outputs": []
    },
    {
      "cell_type": "code",
      "source": [
        "model.summary()"
      ],
      "metadata": {
        "colab": {
          "base_uri": "https://localhost:8080/"
        },
        "id": "zv3ohxEwosnR",
        "outputId": "13fa9ea3-8710-466b-b148-72641c9d6d18"
      },
      "execution_count": 17,
      "outputs": [
        {
          "output_type": "stream",
          "name": "stdout",
          "text": [
            "Model: \"sequential_1\"\n",
            "_________________________________________________________________\n",
            " Layer (type)                Output Shape              Param #   \n",
            "=================================================================\n",
            " conv2d_4 (Conv2D)           (None, 98, 98, 16)        160       \n",
            "                                                                 \n",
            " max_pooling2d_4 (MaxPooling  (None, 49, 49, 16)       0         \n",
            " 2D)                                                             \n",
            "                                                                 \n",
            " conv2d_5 (Conv2D)           (None, 47, 47, 32)        4640      \n",
            "                                                                 \n",
            " max_pooling2d_5 (MaxPooling  (None, 23, 23, 32)       0         \n",
            " 2D)                                                             \n",
            "                                                                 \n",
            " conv2d_6 (Conv2D)           (None, 21, 21, 64)        18496     \n",
            "                                                                 \n",
            " max_pooling2d_6 (MaxPooling  (None, 10, 10, 64)       0         \n",
            " 2D)                                                             \n",
            "                                                                 \n",
            " conv2d_7 (Conv2D)           (None, 8, 8, 128)         73856     \n",
            "                                                                 \n",
            " max_pooling2d_7 (MaxPooling  (None, 4, 4, 128)        0         \n",
            " 2D)                                                             \n",
            "                                                                 \n",
            " flatten_1 (Flatten)         (None, 2048)              0         \n",
            "                                                                 \n",
            " dense_3 (Dense)             (None, 256)               524544    \n",
            "                                                                 \n",
            " dense_4 (Dense)             (None, 128)               32896     \n",
            "                                                                 \n",
            " dense_5 (Dense)             (None, 2)                 258       \n",
            "                                                                 \n",
            "=================================================================\n",
            "Total params: 654,850\n",
            "Trainable params: 654,850\n",
            "Non-trainable params: 0\n",
            "_________________________________________________________________\n"
          ]
        }
      ]
    },
    {
      "cell_type": "code",
      "source": [
        "epochs = 15\n",
        "history = model.fit(X_train, y_train, batch_size=16, epochs=epochs, validation_data=(X_test, y_test))"
      ],
      "metadata": {
        "id": "YfPsi15Pot68",
        "colab": {
          "base_uri": "https://localhost:8080/"
        },
        "outputId": "57e01326-3dbc-45da-bc31-4972c79d5520"
      },
      "execution_count": 18,
      "outputs": [
        {
          "output_type": "stream",
          "name": "stdout",
          "text": [
            "Epoch 1/15\n",
            "24/24 [==============================] - 6s 156ms/step - loss: 0.6223 - accuracy: 0.7120 - val_loss: 0.5237 - val_accuracy: 0.7130\n",
            "Epoch 2/15\n",
            "24/24 [==============================] - 8s 348ms/step - loss: 0.4995 - accuracy: 0.7880 - val_loss: 0.5249 - val_accuracy: 0.7130\n",
            "Epoch 3/15\n",
            "24/24 [==============================] - 4s 144ms/step - loss: 0.4689 - accuracy: 0.7958 - val_loss: 0.6037 - val_accuracy: 0.6759\n",
            "Epoch 4/15\n",
            "24/24 [==============================] - 3s 141ms/step - loss: 0.4371 - accuracy: 0.8246 - val_loss: 0.5059 - val_accuracy: 0.7130\n",
            "Epoch 5/15\n",
            "24/24 [==============================] - 3s 140ms/step - loss: 0.3640 - accuracy: 0.8534 - val_loss: 0.5009 - val_accuracy: 0.7037\n",
            "Epoch 6/15\n",
            "24/24 [==============================] - 5s 228ms/step - loss: 0.3240 - accuracy: 0.8665 - val_loss: 0.5180 - val_accuracy: 0.7130\n",
            "Epoch 7/15\n",
            "24/24 [==============================] - 4s 184ms/step - loss: 0.2153 - accuracy: 0.9058 - val_loss: 0.6444 - val_accuracy: 0.7685\n",
            "Epoch 8/15\n",
            "24/24 [==============================] - 4s 182ms/step - loss: 0.1924 - accuracy: 0.9215 - val_loss: 0.6304 - val_accuracy: 0.7222\n",
            "Epoch 9/15\n",
            "24/24 [==============================] - 5s 231ms/step - loss: 0.1762 - accuracy: 0.9450 - val_loss: 0.6769 - val_accuracy: 0.7222\n",
            "Epoch 10/15\n",
            "24/24 [==============================] - 3s 137ms/step - loss: 0.0562 - accuracy: 0.9843 - val_loss: 0.7863 - val_accuracy: 0.7593\n",
            "Epoch 11/15\n",
            "24/24 [==============================] - 3s 140ms/step - loss: 0.0279 - accuracy: 0.9948 - val_loss: 1.1942 - val_accuracy: 0.7315\n",
            "Epoch 12/15\n",
            "24/24 [==============================] - 4s 152ms/step - loss: 0.0538 - accuracy: 0.9791 - val_loss: 1.0499 - val_accuracy: 0.7130\n",
            "Epoch 13/15\n",
            "24/24 [==============================] - 5s 208ms/step - loss: 0.0440 - accuracy: 0.9817 - val_loss: 1.3769 - val_accuracy: 0.7315\n",
            "Epoch 14/15\n",
            "24/24 [==============================] - 3s 140ms/step - loss: 0.0281 - accuracy: 0.9869 - val_loss: 1.2812 - val_accuracy: 0.7407\n",
            "Epoch 15/15\n",
            "24/24 [==============================] - 3s 140ms/step - loss: 0.0572 - accuracy: 0.9843 - val_loss: 1.3403 - val_accuracy: 0.6944\n"
          ]
        }
      ]
    },
    {
      "cell_type": "code",
      "source": [
        "data = []\n",
        "labels = []\n",
        "classes = 2\n",
        "cur_path = '/content/drive/MyDrive/Capstone dataset/Images-out_RGB'\n",
        "\n",
        "#Retrieving the images and their labels \n",
        "for i in range(classes):\n",
        "    path = os.path.join(cur_path,'test',str(i))\n",
        "    images = os.listdir(path)\n",
        "    for a in images:\n",
        "        try:\n",
        "            image = Image.open(path + '/'+ a)\n",
        "            image = image.resize((100,100))\n",
        "            img = rgb_to_gray(image)\n",
        "            img = np.array(img)\n",
        "            img = img.reshape((100, 100, 1))\n",
        "            #sim = Image.fromarray(image)\n",
        "            data.append(img)\n",
        "            labels.append(i)\n",
        "        except:\n",
        "            print(\"Error loading image\")\n",
        "     \n"
      ],
      "metadata": {
        "id": "7eSq3Syxsh23"
      },
      "execution_count": 20,
      "outputs": []
    },
    {
      "cell_type": "code",
      "source": [
        "x_test=np.array(data)"
      ],
      "metadata": {
        "id": "M5J7vIcLtGFf"
      },
      "execution_count": 30,
      "outputs": []
    },
    {
      "cell_type": "code",
      "source": [
        "x_test.shape"
      ],
      "metadata": {
        "colab": {
          "base_uri": "https://localhost:8080/"
        },
        "id": "kp7aWjuQtHQA",
        "outputId": "19244ff0-eab6-4129-ca63-0b41af824ea1"
      },
      "execution_count": 31,
      "outputs": [
        {
          "output_type": "execute_result",
          "data": {
            "text/plain": [
              "(57, 100, 100, 1)"
            ]
          },
          "metadata": {},
          "execution_count": 31
        }
      ]
    },
    {
      "cell_type": "code",
      "source": [
        "y_pred_prob = model.predict(x_test)\n",
        "y_pred = np.argmax(y_pred_prob, axis=1)"
      ],
      "metadata": {
        "colab": {
          "base_uri": "https://localhost:8080/"
        },
        "id": "ED6lUmzftOtg",
        "outputId": "d3d65a82-8856-4ea3-b4ad-86f82693a844"
      },
      "execution_count": 32,
      "outputs": [
        {
          "output_type": "stream",
          "name": "stdout",
          "text": [
            "2/2 [==============================] - 0s 66ms/step\n"
          ]
        }
      ]
    },
    {
      "cell_type": "code",
      "source": [
        "from sklearn.metrics import accuracy_score\n",
        "print(accuracy_score(labels, y_pred))"
      ],
      "metadata": {
        "colab": {
          "base_uri": "https://localhost:8080/"
        },
        "id": "RFAW7GfKtRGD",
        "outputId": "08fde325-fe66-4635-fd39-565ed522b0ab"
      },
      "execution_count": 33,
      "outputs": [
        {
          "output_type": "stream",
          "name": "stdout",
          "text": [
            "0.7192982456140351\n"
          ]
        }
      ]
    }
  ]
}